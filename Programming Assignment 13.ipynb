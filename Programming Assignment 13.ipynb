{
 "cells": [
  {
   "cell_type": "markdown",
   "id": "9354c16a",
   "metadata": {},
   "source": [
    "# 1.Write a program that calculates and prints the value according to the given formula:\n",
    "Q = Square root of [(2 * C * D)/H]\n",
    "Following are the fixed values of C and H:\n",
    "C is 50. H is 30.\n",
    "D is the variable whose values should be input to your program in a comma-separated\n",
    "sequence.\n",
    "Example\n",
    "Let us assume the following comma separated input sequence is given to the program:\n",
    "100,150,180\n",
    "The output of the program should be:\n",
    "18,22,24"
   ]
  },
  {
   "cell_type": "code",
   "execution_count": 3,
   "id": "e95fa2c6",
   "metadata": {},
   "outputs": [
    {
     "name": "stdout",
     "output_type": "stream",
     "text": [
      "Enter the Input:100,150,180\n",
      "Output: 18,22,24\n"
     ]
    }
   ],
   "source": [
    "from math import sqrt\n",
    "def calculate():\n",
    "    number = eval(input('Enter the Input:'))\n",
    "    result_list = []\n",
    "    C = 50\n",
    "    H = 30\n",
    "    for ele in number:\n",
    "        Q = str(int(sqrt(2*C*ele/H)))\n",
    "        result_list.append(Q)\n",
    "    print(\"Output: {}\".format(','.join(result_list)))\n",
    "    \n",
    "calculate()"
   ]
  },
  {
   "cell_type": "markdown",
   "id": "081453b6",
   "metadata": {},
   "source": [
    "# 2.Write a program which takes 2 digits, X,Y as input and generates a 2-dimensional array. \n",
    "The element value in the i-th row and j-th column of the array should be i*j.\n",
    "Note: i=0,1.., X-1; j=0,1,¡Y-1.\n",
    "Example\n",
    "Suppose the following inputs are given to the program:\n",
    "3,5\n",
    "Then, the output of the program should be:\n",
    "[[0, 0, 0, 0, 0], [0, 1, 2, 3, 4], [0, 2, 4, 6, 8]]"
   ]
  },
  {
   "cell_type": "code",
   "execution_count": 4,
   "id": "ed083f10",
   "metadata": {},
   "outputs": [
    {
     "name": "stdout",
     "output_type": "stream",
     "text": [
      "Enter the No. of Rows:3\n",
      "Enter the No. of Columns:5\n",
      "[[0, 0, 0, 0, 0], [0, 1, 2, 3, 4], [0, 2, 4, 6, 8]]\n"
     ]
    }
   ],
   "source": [
    "import array as arr\n",
    "def generateArray():\n",
    "    X = int(input('Enter the No. of Rows:'))\n",
    "    Y = int(input('Enter the No. of Columns:'))\n",
    "    out_Array = []\n",
    "    for ele in range(X):\n",
    "        out_Array.insert(X,[])\n",
    "        for sub_ele in range(Y):\n",
    "            out_Array[ele].append(ele*sub_ele)\n",
    "    print(out_Array)\n",
    "\n",
    "generateArray()"
   ]
  },
  {
   "cell_type": "markdown",
   "id": "07ee9620",
   "metadata": {},
   "source": [
    "# 3.Write a program that accepts a comma separated sequence of words as input and prints the words in a comma-separated sequence after sorting them alphabetically.\n",
    "Suppose the following input is supplied to the program:\n",
    "without,hello,bag,world\n",
    "Then, the output should be:\n",
    "bag,hello,without,world"
   ]
  },
  {
   "cell_type": "code",
   "execution_count": 5,
   "id": "7b5470a3",
   "metadata": {},
   "outputs": [
    {
     "name": "stdout",
     "output_type": "stream",
     "text": [
      "Enter the Input String:without,hello,bag,world\n",
      "Output:bag,hello,without,world\n"
     ]
    }
   ],
   "source": [
    "def sortString():\n",
    "    in_string = input(\"Enter the Input String:\")\n",
    "    out_string = ','.join(sorted(in_string.split(',')))\n",
    "    print(f'Output:{out_string}')\n",
    "    \n",
    "sortString()"
   ]
  },
  {
   "cell_type": "markdown",
   "id": "a202c0bc",
   "metadata": {},
   "source": [
    "# 4.Write a program that accepts a sequence of whitespace separated words as input and prints the words after removing all duplicate words and sorting them alphanumerically.\n",
    "Suppose the following input is supplied to the program:\n",
    "hello world and practice makes perfect and hello world again\n",
    "Then, the output should be:\n",
    "again and hello makes perfect practice world"
   ]
  },
  {
   "cell_type": "code",
   "execution_count": 8,
   "id": "4c7a5c62",
   "metadata": {},
   "outputs": [
    {
     "name": "stdout",
     "output_type": "stream",
     "text": [
      "Type in:hello world and practice makes perfect and hello world again\n",
      "Output: again and hello makes perfect practice world\n"
     ]
    }
   ],
   "source": [
    "phrase = input(\"Type in:\")\n",
    "phrase_splited = phrase.split(' ')\n",
    "\n",
    "word_list = []\n",
    "for i in phrase_splited:\n",
    "    if i not in word_list:\n",
    "        word_list.append(i)\n",
    "    else:\n",
    "        continue\n",
    "word_list.sort()\n",
    "print(\"Output:\",(' '.join(word_list)))"
   ]
  },
  {
   "cell_type": "markdown",
   "id": "7bd74345",
   "metadata": {},
   "source": [
    "# 5.Write a program that accepts a sentence and calculate the number of letters and digits.\n",
    "Suppose the following input is supplied to the program:\n",
    "hello world! 123\n",
    "Then, the output should be:\n",
    "LETTERS 10\n",
    "DIGITS 3"
   ]
  },
  {
   "cell_type": "code",
   "execution_count": 9,
   "id": "10239b22",
   "metadata": {},
   "outputs": [
    {
     "name": "stdout",
     "output_type": "stream",
     "text": [
      "Type in:hello world! 123\n",
      "Letters: 10\n",
      "Digits: 3\n"
     ]
    }
   ],
   "source": [
    "phrase = input(\"Type in:\")\n",
    "phrase = list(phrase)\n",
    "\n",
    "l = 0\n",
    "d = 0\n",
    "for i in phrase:\n",
    "    if i.isalpha():\n",
    "        l = l+1\n",
    "    if i.isdigit():\n",
    "        d = d+1\n",
    "    else:\n",
    "        pass\n",
    "print(\"Letters:\",l)\n",
    "print(\"Digits:\",d)"
   ]
  },
  {
   "cell_type": "markdown",
   "id": "2bb1708c",
   "metadata": {},
   "source": [
    "# 6.A website requires the users to input username and password to register. Write a program to check the validity of password input by users.\n",
    "Following are the criteria for checking the password:\n",
    "1. At least 1 letter between [a-z]\n",
    "2. At least 1 number between [0-9]\n",
    "1. At least 1 letter between [A-Z]\n",
    "3. At least 1 character from [$#@]\n",
    "4. Minimum length of transaction password: 6\n",
    "5. Maximum length of transaction password: 12\n",
    "Your program should accept a sequence of comma separated passwords and will check them\n",
    "according to the above criteria. Passwords that match the criteria are to be printed, each\n",
    "separated by a comma.\n",
    "Example\n",
    "If the following passwords are given as input to the program:\n",
    "ABd1234@1,a F1#,2w3E*,2We3345\n",
    "Then, the output of the program should be:\n",
    "ABd1234@1"
   ]
  },
  {
   "cell_type": "code",
   "execution_count": 14,
   "id": "3deeb612",
   "metadata": {},
   "outputs": [
    {
     "name": "stdout",
     "output_type": "stream",
     "text": [
      "Type in:ABd1234@1,a F1#,2w3E*,2We3345 \n",
      "ABd1234@1\n"
     ]
    }
   ],
   "source": [
    "import re\n",
    "\n",
    "password = input(\"Type in:\")\n",
    "password = password.split(\",\")\n",
    "\n",
    "Accepted_pass = []\n",
    "for i in password:\n",
    "    if len(i)<6 or len(i)>12:\n",
    "        continue\n",
    "    elif not re.search(\"([a-z])+\", i):\n",
    "        continue\n",
    "    elif not re.search(\"([A-Z])+\",i):\n",
    "        continue\n",
    "    elif not re.search(\"([0-9])+\",i):\n",
    "        continue\n",
    "    elif not re.search(\"([!@$#%&])+\",i):\n",
    "        continue\n",
    "    else:\n",
    "        Accepted_pass.append(i)\n",
    "\n",
    "print((\" \").join(Accepted_pass))"
   ]
  }
 ],
 "metadata": {
  "kernelspec": {
   "display_name": "Python 3 (ipykernel)",
   "language": "python",
   "name": "python3"
  },
  "language_info": {
   "codemirror_mode": {
    "name": "ipython",
    "version": 3
   },
   "file_extension": ".py",
   "mimetype": "text/x-python",
   "name": "python",
   "nbconvert_exporter": "python",
   "pygments_lexer": "ipython3",
   "version": "3.9.12"
  }
 },
 "nbformat": 4,
 "nbformat_minor": 5
}
