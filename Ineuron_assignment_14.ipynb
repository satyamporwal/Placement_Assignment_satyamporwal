{
 "cells": [
  {
   "cell_type": "markdown",
   "id": "9d1ed28b-ad61-452c-a599-6c91d2ff79d3",
   "metadata": {},
   "source": [
    "1. What does RGBA stand for?\n",
    "RGBA stands for Red, Green, Blue, and Alpha. It is a color model that is widely used in computer graphics and digital imaging. Each component (red, green, and blue) represents the intensity of that color channel, and the alpha component represents the level of transparency or opacity. The values for each component range from 0 to 255, where 0 represents no intensity and 255 represents full intensity.\n",
    "\n",
    "2. From the Pillow module, how do you get the RGBA value of any images?\n",
    "A function call to ImageColor.getcolor('CornflowerBlue', 'RGBA') will return (100, 149, 237, 255), the RGBA value for that color.\n",
    "\n",
    "3. What is a box tuple, and how does it work?\n",
    "A box tuple is a tuple value of four integers: the left edge x-coordinate, the top edge y-coordinate, the width, and the height, respectively."
   ]
  },
  {
   "cell_type": "code",
   "execution_count": 7,
   "id": "e6ead568-f8b4-46fe-98bc-273cf015c25e",
   "metadata": {},
   "outputs": [
    {
     "name": "stdout",
     "output_type": "stream",
     "text": [
      "(153, 57, 69)\n"
     ]
    }
   ],
   "source": [
    "#2. From the Pillow module, how do you get the RGBA value of any images?\n",
    "from PIL import Image\n",
    "\n",
    "# Open the image file\n",
    "image = Image.open('akphoto.jpg')\n",
    "x = 100\n",
    "y = 120\n",
    "\n",
    "# Get the RGBA value of a pixel\n",
    "rgba = image.getpixel((x, y))\n",
    "\n",
    "# Print the RGBA value\n",
    "print(rgba)"
   ]
  },
  {
   "cell_type": "code",
   "execution_count": 8,
   "id": "e1b26c51-d332-496e-b8e1-6b127a37e292",
   "metadata": {},
   "outputs": [
    {
     "name": "stdout",
     "output_type": "stream",
     "text": [
      "Width, Height -> (480, 672)\n",
      "Width, Height -> 480,672\n",
      "Width, Height -> 480,672\n"
     ]
    }
   ],
   "source": [
    "#4. Use your image and load in notebook then, How can you find out the width and height of an Image object?\n",
    "pic = Image.open('akphoto.jpg')\n",
    "print(f'Width, Height -> {pic.size}') # Approach 1\n",
    "print(f'Width, Height -> {pic.width},{pic.height}') # Approach 2\n",
    "width,height = pic.size\n",
    "print(f'Width, Height -> {width},{height}')"
   ]
  },
  {
   "cell_type": "code",
   "execution_count": 13,
   "id": "2120dc8d-955f-463c-8cfa-5d6106b22102",
   "metadata": {},
   "outputs": [],
   "source": [
    "#5. What method would you call to get Image object for a 100×100 image, excluding the lower-left quarter of it?\n",
    "\n",
    "image = Image.open('akphoto.jpg')\n",
    "\n",
    "# Crop the image to exclude the lower-left quarter\n",
    "cropped_image = image.crop((0, 50, 50, 100))\n",
    "\n",
    "# Display the cropped image\n",
    "cropped_image.show()"
   ]
  },
  {
   "cell_type": "code",
   "execution_count": null,
   "id": "60ced898-bd5a-4bca-98e4-1648d09c5535",
   "metadata": {},
   "outputs": [],
   "source": [
    "#6. After making changes to an Image object, how could you save it as an image file?\n",
    "from PIL import Image\n",
    "pic = Image.open('pic.png')\n",
    "pic.save('pic2.png')"
   ]
  },
  {
   "cell_type": "markdown",
   "id": "340216e3-2bb3-4c33-8e32-d5619c429a20",
   "metadata": {},
   "source": [
    "7. What module contains Pillow’s shape-drawing code?\n",
    "Pillows ImageDraw module contains Shape drawing methods. The 'ImageDraw' module provides simple 2D graphics support for Image Object. Generally, we use this module to create new images, annotate or retouch existing images and to generate graphics on the fly for web use. The graphics commands support the drawing of shapes and annotation of text.\n",
    "\n",
    "8. Image objects do not have drawing methods. What kind of object does? How do you get this kind of object?\n",
    "ImageDraw objects have shape-drawing methods such as point(), line(), or rectangle().They are returned by passing the Image object to the ImageDraw.Draw() function."
   ]
  },
  {
   "cell_type": "code",
   "execution_count": null,
   "id": "dca2b683-e798-4615-932c-203eacc2e6c1",
   "metadata": {},
   "outputs": [],
   "source": []
  },
  {
   "cell_type": "code",
   "execution_count": null,
   "id": "9f982d85-431a-44c4-9b29-0af859816483",
   "metadata": {},
   "outputs": [],
   "source": []
  },
  {
   "cell_type": "code",
   "execution_count": null,
   "id": "57b450a0-ee68-4f01-8a79-9fb7df352eed",
   "metadata": {},
   "outputs": [],
   "source": []
  }
 ],
 "metadata": {
  "kernelspec": {
   "display_name": "Python 3 (ipykernel)",
   "language": "python",
   "name": "python3"
  },
  "language_info": {
   "codemirror_mode": {
    "name": "ipython",
    "version": 3
   },
   "file_extension": ".py",
   "mimetype": "text/x-python",
   "name": "python",
   "nbconvert_exporter": "python",
   "pygments_lexer": "ipython3",
   "version": "3.9.13"
  }
 },
 "nbformat": 4,
 "nbformat_minor": 5
}
