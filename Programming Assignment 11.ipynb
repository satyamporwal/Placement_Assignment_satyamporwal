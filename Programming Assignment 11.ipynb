{
 "cells": [
  {
   "cell_type": "markdown",
   "id": "81d1d7d5",
   "metadata": {},
   "source": [
    "# 1. Write a Python program to find words which are greater than given length k?"
   ]
  },
  {
   "cell_type": "code",
   "execution_count": 3,
   "id": "0936f67a",
   "metadata": {},
   "outputs": [
    {
     "name": "stdout",
     "output_type": "stream",
     "text": [
      "interpreted\n",
      "general\n",
      "purpose\n",
      "programming\n",
      "language\n"
     ]
    }
   ],
   "source": [
    "def word_k(k, s):\n",
    "    word = s.split(\" \")\n",
    "    for x in word:\n",
    "        if len(x)>k:\n",
    "            print(x)\n",
    "            \n",
    "k = 6\n",
    "s = \"Python is a high level interpreted general purpose programming language\"\n",
    "word_k(k,s)        "
   ]
  },
  {
   "cell_type": "markdown",
   "id": "57efaa23",
   "metadata": {},
   "source": [
    "# 2. Write a Python program for removing i-th character from a string?"
   ]
  },
  {
   "cell_type": "code",
   "execution_count": 4,
   "id": "51410b5a",
   "metadata": {},
   "outputs": [
    {
     "name": "stdout",
     "output_type": "stream",
     "text": [
      "Pyton\n"
     ]
    }
   ],
   "source": [
    "s = \"Python\"\n",
    "i = 4\n",
    "def remove_char(s, i):\n",
    "    a = s[ : i]\n",
    "    b = s[i+1: ]\n",
    "    return a+b\n",
    "print(remove_char(s,i-1))"
   ]
  },
  {
   "cell_type": "markdown",
   "id": "cb2f8174",
   "metadata": {},
   "source": [
    "# 3. Write a Python program to split and join a string?"
   ]
  },
  {
   "cell_type": "code",
   "execution_count": 8,
   "id": "20b97926",
   "metadata": {},
   "outputs": [
    {
     "name": "stdout",
     "output_type": "stream",
     "text": [
      "Enter the string: Python is a high level interpreted general purpose programming language\n",
      "Split String: ['Python', 'is', 'a', 'high', 'level', 'interpreted', 'general', 'purpose', 'programming', 'language']\n",
      "Join String: Python is a high level interpreted general purpose programming language\n"
     ]
    }
   ],
   "source": [
    "def splitJoinString():\n",
    "    in_string = input('Enter the string: ')\n",
    "    print(f\"Split String: {in_string.split(' ')}\")\n",
    "    print(f\"Join String: {' '.join(in_string.split(' '))}\")\n",
    "    \n",
    "splitJoinString()"
   ]
  },
  {
   "cell_type": "markdown",
   "id": "bc45247a",
   "metadata": {},
   "source": [
    "# 4. Write a Python to check if a given string is binary string or not?"
   ]
  },
  {
   "cell_type": "code",
   "execution_count": 11,
   "id": "f17943ef",
   "metadata": {},
   "outputs": [
    {
     "name": "stdout",
     "output_type": "stream",
     "text": [
      "Binary String\n",
      "Non Binary String\n"
     ]
    }
   ],
   "source": [
    "def checkbinary(string):\n",
    "    b = set(string)\n",
    "    s = {'0','1'}\n",
    "    if s == b or b == {'0'} or b == {'1'}:\n",
    "        print(\"Binary String\")\n",
    "    else:\n",
    "        print(\"Non Binary String\")\n",
    "        \n",
    "s1 = \"00100110\"\n",
    "checkbinary(s1)\n",
    "s2 = \"001020012\"\n",
    "checkbinary(s2)"
   ]
  },
  {
   "cell_type": "markdown",
   "id": "91528f91",
   "metadata": {},
   "source": [
    "# 5. Write a Python program to find uncommon words from two Strings?"
   ]
  },
  {
   "cell_type": "code",
   "execution_count": 16,
   "id": "b3de6047",
   "metadata": {},
   "outputs": [
    {
     "name": "stdout",
     "output_type": "stream",
     "text": [
      "['ineuron', 'jobs']\n"
     ]
    }
   ],
   "source": [
    "def uncommon(s1,s2):\n",
    "  s1=s1.split()\n",
    "  s2=s2.split()\n",
    "  k=set(s1).symmetric_difference(set(s2))\n",
    "  return k\n",
    "\n",
    "a = \"ineuron data science\"\n",
    "b = \"data science jobs\"\n",
    "print(list(uncommon(a,b)))"
   ]
  },
  {
   "cell_type": "markdown",
   "id": "eef401cf",
   "metadata": {},
   "source": [
    "# 6. Write a Python to find all duplicate characters in string?"
   ]
  },
  {
   "cell_type": "code",
   "execution_count": 18,
   "id": "d7363212",
   "metadata": {},
   "outputs": [
    {
     "name": "stdout",
     "output_type": "stream",
     "text": [
      "v\n",
      "a\n"
     ]
    }
   ],
   "source": [
    "from collections import Counter\n",
    "def find_dup_char(input):\n",
    "    WC = Counter(input)\n",
    "    for letters, count in WC.items():\n",
    "        if (count>1):\n",
    "            print(letters)\n",
    "if __name__ == \"__main__\":\n",
    "    input = \"svajauvavcay\"\n",
    "    find_dup_char(input)\n",
    "    "
   ]
  },
  {
   "cell_type": "markdown",
   "id": "fb895f58",
   "metadata": {},
   "source": [
    "# 7. Write a Python Program to check if a string contains any special character?"
   ]
  },
  {
   "cell_type": "code",
   "execution_count": 24,
   "id": "5820b1a3",
   "metadata": {},
   "outputs": [
    {
     "name": "stdout",
     "output_type": "stream",
     "text": [
      "String contains special characters.\n"
     ]
    }
   ],
   "source": [
    "import re\n",
    "string = 'Hell0!! I am Nancy.'\n",
    "spl_chars =re.compile('[@_!#$%^&*()<>?/\\|}{~:]')\n",
    "if (spl_chars.search(string) == None):\n",
    "    print('String does not contain any special characters.')\n",
    "else:\n",
    "    print('String contains special characters.')"
   ]
  }
 ],
 "metadata": {
  "kernelspec": {
   "display_name": "Python 3 (ipykernel)",
   "language": "python",
   "name": "python3"
  },
  "language_info": {
   "codemirror_mode": {
    "name": "ipython",
    "version": 3
   },
   "file_extension": ".py",
   "mimetype": "text/x-python",
   "name": "python",
   "nbconvert_exporter": "python",
   "pygments_lexer": "ipython3",
   "version": "3.9.12"
  }
 },
 "nbformat": 4,
 "nbformat_minor": 5
}
