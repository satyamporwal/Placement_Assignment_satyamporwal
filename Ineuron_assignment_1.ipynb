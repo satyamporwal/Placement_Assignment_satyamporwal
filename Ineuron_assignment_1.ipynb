{
 "cells": [
  {
   "cell_type": "raw",
   "id": "34bfea4d-213d-40f9-970b-044ca63f8af7",
   "metadata": {},
   "source": [
    "ques- 1. In the below elements which of them are values or an expression? eg:- values can be\n",
    "integer or string and expressions will be mathematical operators.\n",
    "*\n",
    "'hello'\n",
    "-87.8\n",
    "-\n",
    "/\n",
    "+\n",
    "6"
   ]
  },
  {
   "cell_type": "raw",
   "id": "3c9df4bb-8045-4e47-a247-63aa02960e64",
   "metadata": {},
   "source": [
    "values = ['hello',-87.8,6]\n",
    "expression = ['*','-','/','+']"
   ]
  },
  {
   "cell_type": "raw",
   "id": "bd91814a-e46a-4f1a-8e0b-2465235abdaf",
   "metadata": {},
   "source": [
    "ques-2. What is the difference between string and variable?"
   ]
  },
  {
   "cell_type": "raw",
   "id": "1e7f1504-925f-45f1-9f87-b4087c913b03",
   "metadata": {},
   "source": [
    "a string is a specific type of data that represents textual information, while a variable is a named entity that can hold different types of values, including strings,integer,float etc. Variables can be used to store and manipulate strings along with other types of data."
   ]
  },
  {
   "cell_type": "raw",
   "id": "b91160fa-c5a8-4ceb-ae88-170b406c9906",
   "metadata": {},
   "source": [
    "ques-3. Describe three different data types."
   ]
  },
  {
   "cell_type": "raw",
   "id": "6ce8e8ab-d12c-4d4a-9968-6acb85fc6dba",
   "metadata": {},
   "source": [
    "Integer: Whole numbers without decimal points used for counting and arithmetic.\n",
    "Floa: Numbers with decimals for precise calculations and real-world measurements.\n",
    "Boolean: A data type with only true or false values used for logical conditions and binary choices."
   ]
  },
  {
   "cell_type": "raw",
   "id": "959fab0c-c3bc-41b4-9e89-38bf710d1845",
   "metadata": {},
   "source": [
    "ques-4. What is an expression made up of? What do all expressions do?"
   ]
  },
  {
   "cell_type": "raw",
   "id": "dddde160-5dae-4745-9a83-e05089808c4d",
   "metadata": {},
   "source": [
    "An expression is made up of operators, operands, and variables, combined to produce a value. All expressions evaluate to a resulting value."
   ]
  },
  {
   "cell_type": "raw",
   "id": "fc797565-c152-4534-93d5-eec6ad38668f",
   "metadata": {},
   "source": [
    "ques-5. This assignment statements, like spam = 10. What is the difference between an\n",
    "expression and a statement?"
   ]
  },
  {
   "cell_type": "raw",
   "id": "fbc4279c-d8f1-438e-b89c-70162e5a2036",
   "metadata": {},
   "source": [
    "\"spam = 10\" is a statement because it is a complete instruction that assigns the value 10 to the variable named \"spam\".\n",
    "The expression \"10\" within the statement is a simple expression that evaluates to the value 10.\n",
    "The statement assigns that value to the variable \"spam\", modifying its contents."
   ]
  },
  {
   "cell_type": "raw",
   "id": "f9d4dda8-0742-4ec4-8fde-425c4aa4f6b4",
   "metadata": {},
   "source": [
    "ques-6. After running the following code, what does the variable bacon contain?\n",
    "bacon = 22\n",
    "bacon + 1"
   ]
  },
  {
   "cell_type": "raw",
   "id": "9a71424c-d7e8-4bc2-9bd2-8c5bb45eb301",
   "metadata": {},
   "source": [
    "when we run the code '''bacon = 22\n",
    "bacon + 1''' at the time of runing code its show 23 but when we print bacon again its shows 22 means we are not changing its value for that we have to assign bacon = bacon + 1 after that baco permanent value change "
   ]
  },
  {
   "cell_type": "raw",
   "id": "94745dbe-add2-4444-bca4-470da0e6c9c1",
   "metadata": {},
   "source": [
    "ques-7 What should the values of the following two terms be?\n",
    "'spam'+ 'spamspam' \n",
    "spam * 3"
   ]
  },
  {
   "cell_type": "raw",
   "id": "21833f39-7b1c-4835-9f58-46dd21291aaf",
   "metadata": {},
   "source": [
    "'spam' + 'spamspam':\n",
    "The expression 'spam' + 'spamspam' performs string concatenation, which joins the two strings together. The result would be the string 'spamspamspam'.\n",
    "\n",
    "'spam' * 3:\n",
    "The expression 'spam' * 3 performs string multiplication or repetition. It repeats the string 'spam' three times. The result would be the string 'spamspamspam'."
   ]
  },
  {
   "cell_type": "raw",
   "id": "93c50fc0-fd26-485f-bb8e-77a9ecef4914",
   "metadata": {},
   "source": [
    "8. Why is eggs a valid variable name while 100 is invalid?"
   ]
  },
  {
   "cell_type": "raw",
   "id": "cad635ff-5cf2-4644-839a-e8bde5f427fc",
   "metadata": {},
   "source": [
    "in most programing language there are some certain rules like variable names cannot start with a digit. They must begin with a letter or an underscore.\n",
    "Variable names cannot contain special characters like spaces, punctuation marks, or mathematical symbols.\n",
    "Reserved keywords in the programming language cannot be used as variable names.\n",
    "Examples of invalid variable names: 100, 123spam, my-variable. \n",
    "thats why 100 is invaild"
   ]
  },
  {
   "cell_type": "raw",
   "id": "7fc20f4f-7726-436e-aa13-c34e85c6159f",
   "metadata": {},
   "source": [
    "ques-9. What three functions can be used to get the integer, floating-point number, or string\n",
    "version of a value?"
   ]
  },
  {
   "cell_type": "raw",
   "id": "df3e7f33-dc50-4374-8266-455cea56ea7d",
   "metadata": {},
   "source": [
    "int(): Converts a value to an integer.\n",
    "float(): Converts a value to a floating-point number.\n",
    "str(): Converts a value to a string.\n"
   ]
  },
  {
   "cell_type": "raw",
   "id": "ea7d6d62-512b-462a-9cd7-588df080bc4c",
   "metadata": {},
   "source": [
    "10. Why does this expression cause an error? How can you fix it?\n",
    "'I have eaten' + 99 + 'burritos.'"
   ]
  },
  {
   "cell_type": "raw",
   "id": "ed08b056-df90-4bb5-90c1-e2ac5cb2a022",
   "metadata": {},
   "source": [
    "'I have eaten' + 99 + 'burritos.'\n",
    "when we run this piece of code than concatenatge func through an error beacuse it inly concatenate str + str not str + int,so here 99 is int so we can solve this by converting int into str"
   ]
  },
  {
   "cell_type": "code",
   "execution_count": null,
   "id": "34b3fc4f-59da-49e5-bb74-4a0897bf1fdc",
   "metadata": {},
   "outputs": [],
   "source": [
    "\n"
   ]
  },
  {
   "cell_type": "code",
   "execution_count": null,
   "id": "1518f429-8dd2-4999-b09c-519f678117d7",
   "metadata": {},
   "outputs": [],
   "source": []
  }
 ],
 "metadata": {
  "kernelspec": {
   "display_name": "Python 3 (ipykernel)",
   "language": "python",
   "name": "python3"
  },
  "language_info": {
   "codemirror_mode": {
    "name": "ipython",
    "version": 3
   },
   "file_extension": ".py",
   "mimetype": "text/x-python",
   "name": "python",
   "nbconvert_exporter": "python",
   "pygments_lexer": "ipython3",
   "version": "3.9.13"
  }
 },
 "nbformat": 4,
 "nbformat_minor": 5
}
