{
 "cells": [
  {
   "cell_type": "markdown",
   "id": "906a5651-2408-430c-a898-3316bfe709ff",
   "metadata": {},
   "source": [
    "ques- 1. In the below elements which of them are values or an expression? eg:- values can be\n",
    "integer or string and expressions will be mathematical operators.\n",
    "*\n",
    "'hello'\n",
    "-87.8\n",
    "-\n",
    "/\n",
    "+\n",
    "6"
   ]
  },
  {
   "cell_type": "markdown",
   "id": "2d88205b-7c0b-463d-9da7-64f423c2b05a",
   "metadata": {},
   "source": [
    "values = ['hello',-87.8,6]\n",
    "expression = ['*','-','/','+']"
   ]
  },
  {
   "cell_type": "markdown",
   "id": "77e5c447-a22f-4fca-b3c4-6b0db35f0c1c",
   "metadata": {},
   "source": [
    "ques-2. What is the difference between string and variable?"
   ]
  },
  {
   "cell_type": "markdown",
   "id": "dbec6382-1d31-4a43-82f2-83af90d3d857",
   "metadata": {},
   "source": [
    "a string is a specific type of data that represents textual information, while a variable is a named entity that can hold different types of values, including strings,integer,float etc. Variables can be used to store and manipulate strings along with other types of data."
   ]
  },
  {
   "cell_type": "markdown",
   "id": "6765ccad-bdf0-4b49-aafe-648ff57f4d33",
   "metadata": {},
   "source": [
    "ques-3. Describe three different data types."
   ]
  },
  {
   "cell_type": "markdown",
   "id": "e3c4676f-9e71-41dc-8734-c1f60efde916",
   "metadata": {},
   "source": [
    "Integer: Whole numbers without decimal points used for counting and arithmetic.\n",
    "Floa: Numbers with decimals for precise calculations and real-world measurements.\n",
    "Boolean: A data type with only true or false values used for logical conditions and binary choices."
   ]
  },
  {
   "cell_type": "markdown",
   "id": "1b83777e-1509-4e07-8d36-1000fe7edd15",
   "metadata": {},
   "source": [
    "ques-4. What is an expression made up of? What do all expressions do?"
   ]
  },
  {
   "cell_type": "markdown",
   "id": "ddc00715-f24b-4eac-97da-bb81f19e64b9",
   "metadata": {},
   "source": [
    "An expression is made up of operators, operands, and variables, combined to produce a value. All expressions evaluate to a resulting value."
   ]
  },
  {
   "cell_type": "markdown",
   "id": "899cee1f-a7cb-4cc6-9bfa-3a4dedba4a8b",
   "metadata": {},
   "source": [
    "ques-5. This assignment statements, like spam = 10. What is the difference between an\n",
    "expression and a statement?"
   ]
  },
  {
   "cell_type": "markdown",
   "id": "47078099-a5bc-4f2a-beac-0aa2310b7fd4",
   "metadata": {},
   "source": [
    "\"spam = 10\" is a statement because it is a complete instruction that assigns the value 10 to the variable named \"spam\".\n",
    "The expression \"10\" within the statement is a simple expression that evaluates to the value 10.\n",
    "The statement assigns that value to the variable \"spam\", modifying its contents."
   ]
  },
  {
   "cell_type": "markdown",
   "id": "4dc83644-5a2a-4ad0-9c60-79485778659c",
   "metadata": {},
   "source": [
    "ques-6. After running the following code, what does the variable bacon contain?\n",
    "bacon = 22\n",
    "bacon + 1"
   ]
  },
  {
   "cell_type": "markdown",
   "id": "b7a8632a-4a86-49a7-a1d8-06b989110617",
   "metadata": {},
   "source": [
    "when we run the code '''bacon = 22\n",
    "bacon + 1''' at the time of runing code its show 23 but when we print bacon again its shows 22 means we are not changing its value for that we have to assign bacon = bacon + 1 after that baco permanent value change "
   ]
  },
  {
   "cell_type": "markdown",
   "id": "832fa46a-3d19-40ea-bc1e-be9d3cca5fba",
   "metadata": {},
   "source": [
    "ques-7 What should the values of the following two terms be?\n",
    "'spam'+ 'spamspam' \n",
    "spam * 3"
   ]
  },
  {
   "cell_type": "markdown",
   "id": "70e9ea6e-3ee0-483f-be49-4bb3c7f79ffb",
   "metadata": {},
   "source": [
    "'spam' + 'spamspam':\n",
    "The expression 'spam' + 'spamspam' performs string concatenation, which joins the two strings together. The result would be the string 'spamspamspam'.\n",
    "\n",
    "'spam' * 3:\n",
    "The expression 'spam' * 3 performs string multiplication or repetition. It repeats the string 'spam' three times. The result would be the string 'spamspamspam'."
   ]
  },
  {
   "cell_type": "markdown",
   "id": "546f6935-6a62-4352-958f-71ef43a1eada",
   "metadata": {},
   "source": [
    "8. Why is eggs a valid variable name while 100 is invalid?"
   ]
  },
  {
   "cell_type": "markdown",
   "id": "b0d64b95-98cb-4079-8ab5-9290a0759a6e",
   "metadata": {},
   "source": [
    "in most programing language there are some certain rules like variable names cannot start with a digit. They must begin with a letter or an underscore.\n",
    "Variable names cannot contain special characters like spaces, punctuation marks, or mathematical symbols.\n",
    "Reserved keywords in the programming language cannot be used as variable names.\n",
    "Examples of invalid variable names: 100, 123spam, my-variable. \n",
    "thats why 100 is invaild"
   ]
  },
  {
   "cell_type": "markdown",
   "id": "f9b589a3-25dc-489c-950f-6fe4a6bb8a2b",
   "metadata": {},
   "source": [
    "ques-9. What three functions can be used to get the integer, floating-point number, or string\n",
    "version of a value?"
   ]
  },
  {
   "cell_type": "markdown",
   "id": "a9b2f035-c6d7-46b5-bf24-da125201e750",
   "metadata": {},
   "source": [
    "int(): Converts a value to an integer.\n",
    "float(): Converts a value to a floating-point number.\n",
    "str(): Converts a value to a string.\n"
   ]
  },
  {
   "cell_type": "markdown",
   "id": "10560a9c-1137-46b4-a23a-3c9a915fdfca",
   "metadata": {},
   "source": [
    "10. Why does this expression cause an error? How can you fix it?\n",
    "'I have eaten' + 99 + 'burritos.'"
   ]
  },
  {
   "cell_type": "markdown",
   "id": "f8e96f52-a8df-4750-b52c-f09b6158a0d4",
   "metadata": {},
   "source": [
    "'I have eaten' + 99 + 'burritos.'\n",
    "when we run this piece of code than concatenatge func through an error beacuse it inly concatenate str + str not str + int,so here 99 is int so we can solve this by converting int into str"
   ]
  },
  {
   "cell_type": "code",
   "execution_count": null,
   "id": "34b3fc4f-59da-49e5-bb74-4a0897bf1fdc",
   "metadata": {},
   "outputs": [],
   "source": [
    "\n"
   ]
  },
  {
   "cell_type": "code",
   "execution_count": null,
   "id": "1518f429-8dd2-4999-b09c-519f678117d7",
   "metadata": {},
   "outputs": [],
   "source": []
  }
 ],
 "metadata": {
  "kernelspec": {
   "display_name": "Python 3 (ipykernel)",
   "language": "python",
   "name": "python3"
  },
  "language_info": {
   "codemirror_mode": {
    "name": "ipython",
    "version": 3
   },
   "file_extension": ".py",
   "mimetype": "text/x-python",
   "name": "python",
   "nbconvert_exporter": "python",
   "pygments_lexer": "ipython3",
   "version": "3.9.13"
  }
 },
 "nbformat": 4,
 "nbformat_minor": 5
}
