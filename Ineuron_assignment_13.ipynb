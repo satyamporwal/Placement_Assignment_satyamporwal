{
 "cells": [
  {
   "cell_type": "markdown",
   "id": "2a117af3-e225-4368-8ec8-79028decd1e0",
   "metadata": {},
   "source": [
    "1. What advantages do Excel spreadsheets have over CSV spreadsheets?\n",
    "2.What do you pass to csv.reader() and csv.writer() to create reader and writer objects?\n",
    "3. What modes do File objects for reader and writer objects need to be opened in?\n",
    "4. What method takes a list argument and writes it to a CSV file?\n",
    "5. What do the keyword arguments delimiter and line terminator do?\n",
    "6. What function takes a string of JSON data and returns a Python data structure?\n",
    "7. What function takes a Python data structure and returns a string of JSON data?"
   ]
  },
  {
   "cell_type": "code",
   "execution_count": null,
   "id": "c3491f8c-8587-4e84-8939-314bebf21611",
   "metadata": {},
   "outputs": [],
   "source": []
  },
  {
   "cell_type": "markdown",
   "id": "62260215-6671-4037-b4cc-0bb8a81ad2db",
   "metadata": {},
   "source": [
    "Excel spreadsheets offer advantages over CSV spreadsheets, including cell formatting, formulas and functions, multiple sheets, charts and graphs, data validation and protection, and advanced data sorting and filtering capabilities."
   ]
  },
  {
   "cell_type": "code",
   "execution_count": null,
   "id": "af5a0f97-393d-4fae-8651-14a84b2e5ce0",
   "metadata": {},
   "outputs": [],
   "source": [
    "import csv\n",
    "\n",
    "# Open the CSV file\n",
    "with open('file.csv', 'r') as file:\n",
    "    reader = csv.reader(file)"
   ]
  },
  {
   "cell_type": "code",
   "execution_count": null,
   "id": "2f8057a9-d795-4a81-a3dd-4da1f3420d15",
   "metadata": {},
   "outputs": [],
   "source": [
    "import csv\n",
    "\n",
    "# Open the CSV file\n",
    "with open('file.csv', 'w', newline='') as file:\n",
    "    writer = csv.writer(file)"
   ]
  },
  {
   "cell_type": "markdown",
   "id": "94ad8b4f-261c-4fc7-aca9-c6a942cae904",
   "metadata": {},
   "source": [
    "For csv.reader(iterable_file_object), the file objects needed to be opened in read mode mode='r' Whereas for csv.writer(iterable_file_object) the file objects needed to be opened in write mode mode='w'."
   ]
  },
  {
   "cell_type": "code",
   "execution_count": null,
   "id": "0c71facf-572e-46e5-b359-0e2abe4d2222",
   "metadata": {},
   "outputs": [],
   "source": [
    "import csv\n",
    "\n",
    "# Open the CSV file in text mode\n",
    "with open('file.csv', 'r') as file:\n",
    "    reader = csv.reader(file)"
   ]
  },
  {
   "cell_type": "code",
   "execution_count": null,
   "id": "1c4193d6-1fd1-495c-913b-bf86a64ce861",
   "metadata": {},
   "outputs": [],
   "source": [
    "import csv\n",
    "\n",
    "# Open the CSV file in text mode\n",
    "with open('file.csv', 'w', newline='') as file:\n",
    "    writer = csv.writer(file)"
   ]
  },
  {
   "cell_type": "markdown",
   "id": "0f7b7584-9358-4575-9077-b51b1e22f2fd",
   "metadata": {},
   "source": [
    "\n",
    "The writerow() method is used to write a list of values as a row to a CSV file using a writer object in the csv module"
   ]
  },
  {
   "cell_type": "code",
   "execution_count": null,
   "id": "2aca3157-17a6-438c-87cc-7920e17c0dae",
   "metadata": {},
   "outputs": [],
   "source": [
    "import csv\n",
    "\n",
    "# Open the CSV file in write mode\n",
    "with open('file.csv', 'w', newline='') as file:\n",
    "    writer = csv.writer(file)\n",
    "\n",
    "    # Write a list of values as a row\n",
    "    row = ['John', 'Doe', 25]\n",
    "    writer.writerow(row)"
   ]
  },
  {
   "cell_type": "markdown",
   "id": "c6154e27-903b-4cf3-ad02-c7f990d08eeb",
   "metadata": {},
   "source": [
    "The delimiter argument changes the string used to separate cells in a row. The lineterminator argument changes the string used to separate rows."
   ]
  },
  {
   "cell_type": "code",
   "execution_count": null,
   "id": "fad63f33-dddc-4d67-91af-2148c6fc5c7b",
   "metadata": {},
   "outputs": [],
   "source": [
    "import json\n",
    "\n",
    "# JSON data as a string\n",
    "json_data = '{\"name\": \"John\", \"age\": 30, \"city\": \"New York\"}'\n",
    "\n",
    "# Convert JSON string to Python data structure\n",
    "python_data = json.loads(json_data)\n",
    "\n",
    "# Access the Python data structure\n",
    "print(python_data['name'])\n",
    "print(python_data['age'])\n",
    "print(python_data['city'])\n"
   ]
  },
  {
   "cell_type": "code",
   "execution_count": null,
   "id": "732a583a-fa7f-49cd-abd2-b162d22aa341",
   "metadata": {},
   "outputs": [],
   "source": [
    "import json\n",
    "\n",
    "# Python data structure\n",
    "python_data = {\n",
    "    \"name\": \"John\",\n",
    "    \"age\": 30,\n",
    "    \"city\": \"New York\"\n",
    "}\n",
    "\n",
    "# Convert Python data structure to JSON string\n",
    "json_data = json.dumps(python_data)\n",
    "\n",
    "# Print the JSON string\n",
    "print(json_data)\n"
   ]
  }
 ],
 "metadata": {
  "kernelspec": {
   "display_name": "Python 3 (ipykernel)",
   "language": "python",
   "name": "python3"
  },
  "language_info": {
   "codemirror_mode": {
    "name": "ipython",
    "version": 3
   },
   "file_extension": ".py",
   "mimetype": "text/x-python",
   "name": "python",
   "nbconvert_exporter": "python",
   "pygments_lexer": "ipython3",
   "version": "3.9.13"
  }
 },
 "nbformat": 4,
 "nbformat_minor": 5
}
