{
 "cells": [
  {
   "cell_type": "markdown",
   "id": "42c1d8ce-3fc8-46ad-8791-77d73f7c126f",
   "metadata": {},
   "source": [
    "1. In what modes should the PdfFileReader() and PdfFileWriter() File objects will be opened?\n",
    "For PdfFileReader() file objects WILL be opened in rb -> read binary mode, Whereas for PdfFileWriter() file objects WILL be opened in wb -> write binary mode."
   ]
  },
  {
   "cell_type": "markdown",
   "id": "71998222-a507-4822-a36d-5460c375f750",
   "metadata": {},
   "source": [
    "2. From a PdfFileReader object, how do you get a Page object for page 5?\n",
    "Calling getPage(4) will return a Page object for About This Book, since page 0 is the first page.\n",
    "\n",
    "3. What PdfFileReader variable stores the number of pages in the PDF document?\n",
    "The numPages variable stores an integer of the number of pages in the PdfFileReader object.\n",
    "\n",
    "4. If a PdfFileReader object’s PDF is encrypted with the password swordfish, what must you do before you can obtain Page objects from it?\n",
    "If a PdfFileReader object’s PDF is encrypted with the password swordfish and we are not aware of it, we will first read the Pdf using the PdfFileReader Class. PdfFileReader class provides a attribute called isEncrypted to check whether a pdf is encrypted or not. The method returns true if a pdf is encrypted and vice versa. If pdf is encrypted we will use the decrypt() method provided by PdfFileReader class and then we will try to read the contents/pages of the pdf, else PyPDF2 will raise the following error PyPDF2.utils.PdfReadError: file has not been decrypted\n",
    "\n",
    "5. What methods do you use to rotate a page?\n",
    "The rotateClockwise() and rotateCounterClockwise() methods. The degrees to rotate is passed as an integer argument."
   ]
  },
  {
   "cell_type": "markdown",
   "id": "cad0898e-1610-4c57-a0be-91b60fb66c9e",
   "metadata": {},
   "source": [
    "6. What is the difference between a Run object and a Paragraph object?\n",
    "A document contains multiple paragraphs. A paragraph begins on a new line and contains multiple runs. Runs are contiguous groups of characters within a paragraph.\n",
    "\n",
    "7. How do you obtain a list of Paragraph objects for a Document object that’s stored in a variable named doc?\n",
    "!pip install docx\n",
    "Collecting docx\n",
    "  Downloading docx-0.2.4.tar.gz (54 kB)\n",
    "Requirement already satisfied: lxml in c:\\users\\hp\\anaconda3\\lib\\site-packages (from docx) (4.8.0)\n",
    "Requirement already satisfied: Pillow>=2.0 in c:\\users\\hp\\anaconda3\\lib\\site-packages (from docx) (9.0.1)\n",
    "Building wheels for collected packages: docx\n",
    "  Building wheel for docx (setup.py): started\n",
    "  Building wheel for docx (setup.py): finished with status 'done'\n",
    "  Created wheel for docx: filename=docx-0.2.4-py3-none-any.whl size=53924 sha256=c9c9284f9056f00131082dfbb77e9494c1031d75b54dd80d997b975438d6c3c0\n",
    "  Stored in directory: c:\\users\\hp\\appdata\\local\\pip\\cache\\wheels\\0f\\8e\\9d\\7003eed35a84cf960876aae6bdf60d02041ddfcca66eceee94\n",
    "Successfully built docx\n",
    "Installing collected packages: docx\n",
    "Successfully installed docx-0.2.4\n",
    "Collecting docx\n",
    "  Using cached docx-0.2.4.tar.gz (54 kB)\n",
    "Requirement already satisfied: lxml in c:\\users\\hp\\anaconda3\\lib\\site-packages (from docx) (4.8.0)\n",
    "Requirement already satisfied: Pillow>=2.0 in c:\\users\\hp\\anaconda3\\lib\\site-packages (from docx) (9.0.1)\n",
    "Building wheels for collected packages: docx\n",
    "  Building wheel for docx (setup.py): started\n",
    "  Building wheel for docx (setup.py): finished with status 'done'\n",
    "  Created wheel for docx: filename=docx-0.2.4-py3-none-any.whl size=53924 sha256=318a3c788a287b0d9ce7465bbafa366f45b585ebf1b5373a70bcef9fe19fd5dc\n",
    "  Stored in directory: c:\\users\\hp\\appdata\\local\\pip\\cache\\wheels\\0f\\8e\\9d\\7003eed35a84cf960876aae6bdf60d02041ddfcca66eceee94\n",
    "Successfully built docx\n",
    "Installing collected packages: docx\n",
    "Successfully installed docx-0.2.4\n",
    "# Example Program\n",
    "from docx import Document\n",
    "doc = Document(\"sample_file.docx\") # Path of the Docx file\n",
    "print(doc.paragraphs) # Prints the list of Paragraph objects for a Document\n",
    "for paragraph in doc.paragraphs:\n",
    "    print(paragraph.text) # Prints the text in the paragraph\n",
    "8. What type of object has bold, underline, italic, strike, and outline variables?\n",
    "Run object has bold, underline, italic, strike, and outline variables. The text in a Word document is more than just a string. It has font, size, color, and other styling information associated with it.\n",
    "\n",
    "A style in Word is a collection of these attributes. A Run object is a contiguous run of text with the same style. A new Run object is needed whenever the text style changes.\n",
    "\n",
    "9. What is the difference between False, True, and None for the bold variable?\n",
    "bold = True  # Style Set to Bold\n",
    "bold = False # Style Not Set to Bold\n",
    "bold = None # Style is Not Applicable\n",
    "10. How do you create a Document object for a new Word document?\n",
    "# Example Program\n",
    "from docx import Document\n",
    "document = Document()\n",
    "document.add_paragraph(\"iNeuron Full Stack DataScience Course\")\n",
    "document.save('mydocument.docx')\n",
    "11. How do you add a paragraph with the text 'Hello, there!' to a Document object stored in a variable named doc?\n",
    "# Example Program\n",
    "from docx import Document\n",
    "doc = Document()\n",
    "doc.add_paragraph('Hello, there!')\n",
    "doc.save('hello.docx')\n",
    "12. What integers represent the levels of headings available in Word documents?\n",
    "The levels for a heading in a word document can be specified by using the level attribute inside the add_heading method. There are a total of 5 levels statring for 0 to 4. where level 0 makes a headline with the horizontal line below the text, whereas the heading level 1 is the main heading. Similarly, the other headings are sub-heading with their's font-sizes in decreasing order."
   ]
  },
  {
   "cell_type": "code",
   "execution_count": null,
   "id": "59305eb0-7d25-4427-8d96-be6b13cd9660",
   "metadata": {},
   "outputs": [],
   "source": []
  },
  {
   "cell_type": "code",
   "execution_count": null,
   "id": "e6c26922-f2dc-47af-bdd3-fcebfb154c39",
   "metadata": {},
   "outputs": [],
   "source": []
  }
 ],
 "metadata": {
  "kernelspec": {
   "display_name": "Python 3 (ipykernel)",
   "language": "python",
   "name": "python3"
  },
  "language_info": {
   "codemirror_mode": {
    "name": "ipython",
    "version": 3
   },
   "file_extension": ".py",
   "mimetype": "text/x-python",
   "name": "python",
   "nbconvert_exporter": "python",
   "pygments_lexer": "ipython3",
   "version": "3.9.13"
  }
 },
 "nbformat": 4,
 "nbformat_minor": 5
}
