{
 "cells": [
  {
   "cell_type": "markdown",
   "id": "bb946bd7",
   "metadata": {},
   "source": [
    "# 1. Write a Python Program to Display Fibonacci Sequence Using Recursion?"
   ]
  },
  {
   "cell_type": "code",
   "execution_count": 2,
   "id": "fb9b5aaf",
   "metadata": {},
   "outputs": [
    {
     "data": {
      "text/plain": [
       "21"
      ]
     },
     "execution_count": 2,
     "metadata": {},
     "output_type": "execute_result"
    }
   ],
   "source": [
    "def Fibonacci(n):\n",
    "    if n < 0:\n",
    "        print('Incorrect input')\n",
    "    elif n == 0:\n",
    "        return 0\n",
    "    elif n == 1 or n ==2:\n",
    "        return 1\n",
    "    else:\n",
    "        return Fibonacci(n-1) + Fibonacci(n-2)\n",
    "\n",
    "Fibonacci(8)"
   ]
  },
  {
   "cell_type": "markdown",
   "id": "c4d3032b",
   "metadata": {},
   "source": [
    "# 2. Write a Python Program to Find Factorial of Number Using Recursion?"
   ]
  },
  {
   "cell_type": "code",
   "execution_count": 3,
   "id": "3832023d",
   "metadata": {},
   "outputs": [
    {
     "name": "stdout",
     "output_type": "stream",
     "text": [
      "The factorial of 5 is 120\n"
     ]
    }
   ],
   "source": [
    "def factorial(n):\n",
    "    if n == 1:\n",
    "        return n\n",
    "    else:\n",
    "        return n*factorial(n-1)\n",
    "num = 5\n",
    "if num < 0:\n",
    "    print('Sorry, factorial does not exist for negative number')\n",
    "elif num == 0:\n",
    "    print('The factorial of 0 is 1')\n",
    "else:\n",
    "    print('The factorial of',num,'is',factorial(num))"
   ]
  },
  {
   "cell_type": "markdown",
   "id": "b1f4c887",
   "metadata": {},
   "source": [
    "# 3. Write a Python Program to calculate your Body Mass Index?"
   ]
  },
  {
   "cell_type": "code",
   "execution_count": 17,
   "id": "d88fb81f",
   "metadata": {},
   "outputs": [
    {
     "name": "stdout",
     "output_type": "stream",
     "text": [
      "Enter your Weight(kgs): 40\n",
      "Enter your Height(mts): 1.2\n",
      "The BMI is 27.77777777777778 so Overweight\n"
     ]
    }
   ],
   "source": [
    "def BMI():\n",
    "    weight = eval(input('Enter your Weight(kgs): '))\n",
    "    height = eval(input('Enter your Height(mts): '))\n",
    "    bmi = weight/(height**2)\n",
    "    print(\"The BMI is\",bmi,\"so\",end=' ')\n",
    "    if bmi < 18.5:\n",
    "        print(\"underweight\")\n",
    "    elif bmi >= 18.5 and bmi < 24.9:\n",
    "        print(\"Healthy\")\n",
    "    elif bmi >= 24.9 and bmi < 30:\n",
    "        print(\"Overweight\")\n",
    "    elif bmi >= 30:\n",
    "        print(\"Suffering from Obesity\")\n",
    "    \n",
    "BMI()\n"
   ]
  },
  {
   "cell_type": "markdown",
   "id": "ea5d54f1",
   "metadata": {},
   "source": [
    "# 4. Write a Python Program to calculate the natural logarithm of any number?"
   ]
  },
  {
   "cell_type": "code",
   "execution_count": 20,
   "id": "ab559d8b",
   "metadata": {},
   "outputs": [
    {
     "name": "stdout",
     "output_type": "stream",
     "text": [
      "Enter a number: 3\n",
      "1.0986122886681098\n"
     ]
    }
   ],
   "source": [
    "import math\n",
    "def genNatLog():\n",
    "    num = int(input(\"Enter a number: \"))\n",
    "    print(math.log(num))\n",
    "\n",
    "genNatLog()"
   ]
  },
  {
   "cell_type": "markdown",
   "id": "9da84100",
   "metadata": {},
   "source": [
    "# 5. Write a Python Program for cube sum of first n natural numbers?"
   ]
  },
  {
   "cell_type": "code",
   "execution_count": 24,
   "id": "5a3af3b9",
   "metadata": {},
   "outputs": [
    {
     "name": "stdout",
     "output_type": "stream",
     "text": [
      "Enter the no of Natural Numbers: 6\n",
      "Sum of cubes of first 6 natural numbers:  441\n"
     ]
    }
   ],
   "source": [
    "def cubeSum(num):\n",
    "    s = 0\n",
    "    for i in range(num+1):\n",
    "        s = s+i**3\n",
    "    return s\n",
    "num = int(input(\"Enter the no of Natural Numbers: \"))\n",
    "print(\"Sum of cubes of first {} natural numbers: \".format(num),cubeSum(num))"
   ]
  }
 ],
 "metadata": {
  "kernelspec": {
   "display_name": "Python 3 (ipykernel)",
   "language": "python",
   "name": "python3"
  },
  "language_info": {
   "codemirror_mode": {
    "name": "ipython",
    "version": 3
   },
   "file_extension": ".py",
   "mimetype": "text/x-python",
   "name": "python",
   "nbconvert_exporter": "python",
   "pygments_lexer": "ipython3",
   "version": "3.9.7"
  }
 },
 "nbformat": 4,
 "nbformat_minor": 5
}
