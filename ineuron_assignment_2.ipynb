{
 "cells": [
  {
   "cell_type": "raw",
   "id": "cac600ac-935b-4cc6-9603-8fff9fd0b2e9",
   "metadata": {},
   "source": [
    "ques-1.What are the two values of the Boolean data type? How do you write them?"
   ]
  },
  {
   "cell_type": "raw",
   "id": "e4c8d769-65f9-4ebc-811e-a6730d0ad5e6",
   "metadata": {},
   "source": [
    "The Boolean data type represents logical values and has two possible values: \"true\" and \"false\".\n",
    "x = True\n",
    "y = False"
   ]
  },
  {
   "cell_type": "raw",
   "id": "f4904c82-c9c2-4d1e-a60e-4b5402e5ea58",
   "metadata": {},
   "source": [
    "3. Make a list of each Boolean operator's truth tables (i.e. every possible combination of Boolean\n",
    "values for the operator and what it evaluate )."
   ]
  },
  {
   "cell_type": "code",
   "execution_count": 13,
   "id": "5749a94c-451f-4076-9c29-173253cb45be",
   "metadata": {},
   "outputs": [
    {
     "name": "stdout",
     "output_type": "stream",
     "text": [
      "true\n",
      "false\n",
      "False\n"
     ]
    }
   ],
   "source": [
    "#when we use and logical for boolean that means both values has to be true\n",
    "a = 57\n",
    "if a>50 and a==57:\n",
    "    print('true')\n",
    "else:\n",
    "    print('false')\n",
    "#when we use or logical that means \n",
    "\n",
    "#when we use or logical thta means one of the value must be true\n",
    "#for eg\n",
    "b = 59\n",
    "if b == 57 or b==50:\n",
    "    print('true')\n",
    "else:\n",
    "    print('false')\n",
    "##when we using not logical then that means it should be reverse\n",
    "c = True\n",
    "result = not c\n",
    "\n",
    "print(result)\n",
    "    "
   ]
  },
  {
   "cell_type": "raw",
   "id": "4b885a5b-4c66-4071-9b0f-93de26399ea5",
   "metadata": {},
   "source": [
    "ques-2. What are the three different types of Boolean operators?"
   ]
  },
  {
   "cell_type": "raw",
   "id": "93283671-637a-4f5a-add2-8bc83e0c6435",
   "metadata": {},
   "source": [
    "and, or, not"
   ]
  },
  {
   "cell_type": "code",
   "execution_count": 15,
   "id": "ad34f2d2-3644-41d9-99fe-c53f6674d784",
   "metadata": {},
   "outputs": [
    {
     "name": "stdout",
     "output_type": "stream",
     "text": [
      "False\n",
      "False\n",
      "True\n",
      "False\n",
      "False\n",
      "True\n"
     ]
    }
   ],
   "source": [
    "#4. What are the values of the following expressions?\n",
    "print((5 , 4) and (3 == 5))\n",
    "print(not (5 , 4))\n",
    "print((5 > 4) or (3 == 5))\n",
    "print(not ((5, 4) or (3 == 5)))\n",
    "print((True and True) and (True == False))\n",
    "print((not False) or (not True))"
   ]
  },
  {
   "cell_type": "raw",
   "id": "2d943525-985a-49cc-8b86-2a8b8ae31738",
   "metadata": {},
   "source": [
    "#5. What are the six comparison operators?\n",
    "Equal to (==): Checks if two operands are equal and returns True if they are, and False otherwise.\n",
    "Not equal to (!=): Checks if two operands are not equal and returns True if they are not equal, and False otherwise.\n",
    "Greater than (>): Checks if the left operand is greater than the right operand and returns True if it is, and False otherwise.\n",
    "Less than (<): Checks if the left operand is less than the right operand and returns True if it is, and False otherwise.\n",
    "Greater than or equal to (>=): Checks if the left operand is greater than or equal to the right operand and returns True if it is, and False otherwise.\n",
    "Less than or equal to (<=): Checks if the left operand is less than or equal to the right operand and returns True if it is, and False otherwise."
   ]
  },
  {
   "cell_type": "raw",
   "id": "b95e50e0-02c1-486d-915f-a281e44b8abc",
   "metadata": {},
   "source": [
    "6. How do you tell the difference between the equal to and assignment operators?Describe a\n",
    "condition and when you would use one."
   ]
  },
  {
   "cell_type": "code",
   "execution_count": 17,
   "id": "e240ec30-dcfd-42f0-abc3-d2169b7c2461",
   "metadata": {},
   "outputs": [
    {
     "name": "stdout",
     "output_type": "stream",
     "text": [
      "true\n"
     ]
    }
   ],
   "source": [
    "a = 30\n",
    "b = 50\n",
    "if a ==30 and b == 50:\n",
    "    print('true')\n",
    "else:\n",
    "    print('false')\n",
    "\"\"\"in above example for assiging the valuse i have use assigment opertor (=)\n",
    "and for checking the condition i have use equa;l to(==) opertor so here we can describe where we can use both of them'''"
   ]
  },
  {
   "cell_type": "code",
   "execution_count": 21,
   "id": "174c5bed-33f7-4368-9f26-c6367338f775",
   "metadata": {},
   "outputs": [
    {
     "name": "stdout",
     "output_type": "stream",
     "text": [
      "eggs\n",
      "bacon\n"
     ]
    }
   ],
   "source": [
    "#7. Identify the three blocks in this code:\n",
    "spam = 10\n",
    "if spam == 10:\n",
    "    print('eggs') #block 1\n",
    "if spam > 5: #block 2\n",
    "    print('bacon')\n",
    "else: #block3\n",
    "    print('ham')\n",
    "    print('spam')\n",
    "    print('spam')"
   ]
  },
  {
   "cell_type": "raw",
   "id": "3cf9da0e-1651-418b-8484-3508d11a39e2",
   "metadata": {},
   "source": [
    "8. Write code that prints Hello if 1 is stored in spam, prints Howdy if 2 is stored in spam, and prints\n",
    "Greetings! if anything else is stored in spam."
   ]
  },
  {
   "cell_type": "code",
   "execution_count": 27,
   "id": "bf49d6d0-2734-4865-ad34-ee6266f9d097",
   "metadata": {},
   "outputs": [
    {
     "name": "stdout",
     "output_type": "stream",
     "text": [
      "greeting!\n"
     ]
    }
   ],
   "source": [
    "spam = 4\n",
    "if spam == 1:\n",
    "    print('hello')\n",
    "elif spam == 2:\n",
    "    print('howdy')\n",
    "else:\n",
    "    print('greeting!')"
   ]
  },
  {
   "cell_type": "code",
   "execution_count": null,
   "id": "c5ef23f1-fd47-4f07-8281-9c135d59c585",
   "metadata": {},
   "outputs": [],
   "source": []
  },
  {
   "cell_type": "code",
   "execution_count": null,
   "id": "8fedfd87-2e76-434c-aca2-06a3e698f518",
   "metadata": {},
   "outputs": [],
   "source": []
  },
  {
   "cell_type": "code",
   "execution_count": null,
   "id": "261d7fb6-252d-42e7-831d-8ad22af1c68d",
   "metadata": {},
   "outputs": [],
   "source": []
  }
 ],
 "metadata": {
  "kernelspec": {
   "display_name": "Python 3 (ipykernel)",
   "language": "python",
   "name": "python3"
  },
  "language_info": {
   "codemirror_mode": {
    "name": "ipython",
    "version": 3
   },
   "file_extension": ".py",
   "mimetype": "text/x-python",
   "name": "python",
   "nbconvert_exporter": "python",
   "pygments_lexer": "ipython3",
   "version": "3.9.13"
  }
 },
 "nbformat": 4,
 "nbformat_minor": 5
}
