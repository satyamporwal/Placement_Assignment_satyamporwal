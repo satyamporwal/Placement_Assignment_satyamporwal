{
 "cells": [
  {
   "cell_type": "markdown",
   "id": "1001d2e6",
   "metadata": {},
   "source": [
    "# 1. Write a Python Program to Add Two Matrices?"
   ]
  },
  {
   "cell_type": "code",
   "execution_count": 1,
   "id": "29a58be9",
   "metadata": {},
   "outputs": [
    {
     "name": "stdout",
     "output_type": "stream",
     "text": [
      "[9, 8, 8]\n",
      "[9, 9, 15]\n",
      "[9, 8, 8]\n"
     ]
    }
   ],
   "source": [
    "X = [[2,3,4],[7,5,7],[8,5,3]]\n",
    "Y = [[7,5,4],[2,4,8],[1,3,5]]\n",
    "result = [[0,0,0],[0,0,0],[0,0,0]]\n",
    "for i in range(len(X)):\n",
    "    for j in range(len(X[0])):\n",
    "        result[i][j] = X[i][j] + Y[i][j]\n",
    "for r in result:\n",
    "    print(r)"
   ]
  },
  {
   "cell_type": "markdown",
   "id": "37a72613",
   "metadata": {},
   "source": [
    "# 2. Write a Python Program to Multiply Two Matrices?"
   ]
  },
  {
   "cell_type": "code",
   "execution_count": 7,
   "id": "9fc6c0b9",
   "metadata": {},
   "outputs": [
    {
     "name": "stdout",
     "output_type": "stream",
     "text": [
      "[24, 34, 52]\n",
      "[66, 76, 103]\n",
      "[69, 69, 87]\n"
     ]
    }
   ],
   "source": [
    "X = [[2,3,4],[7,5,7],[8,5,3]]\n",
    "Y = [[7,5,4],[2,4,8],[1,3,5]]\n",
    "result = [[0,0,0],[0,0,0],[0,0,0]]\n",
    "for i in range(len(X)):\n",
    "    for j in range(len(Y[0])):\n",
    "                   for k in range(len(Y)):\n",
    "                         result[i][j] += X[i][k] * Y[k][j]\n",
    "for r in result:\n",
    "    print(r)"
   ]
  },
  {
   "cell_type": "markdown",
   "id": "199b99c3",
   "metadata": {},
   "source": [
    "# 3. Write a Python Program to Transpose a Matrix?"
   ]
  },
  {
   "cell_type": "code",
   "execution_count": 8,
   "id": "7aeb5394",
   "metadata": {},
   "outputs": [
    {
     "name": "stdout",
     "output_type": "stream",
     "text": [
      "[2, 7, 8]\n",
      "[3, 5, 5]\n"
     ]
    }
   ],
   "source": [
    "X = [[2,3],[7,5],[8,5]]\n",
    "result = [[0,0,0],[0,0,0]]\n",
    "for i in range(len(X)):\n",
    "    for j in range(len(X[0])):\n",
    "        result[j][i] = X[i][j]\n",
    "for r in result:\n",
    "    print(r)"
   ]
  },
  {
   "cell_type": "markdown",
   "id": "682d9b6d",
   "metadata": {},
   "source": [
    "# 4. Write a Python Program to Sort Words in Alphabetic Order?"
   ]
  },
  {
   "cell_type": "code",
   "execution_count": 9,
   "id": "6751dfe9",
   "metadata": {},
   "outputs": [
    {
     "name": "stdout",
     "output_type": "stream",
     "text": [
      "Enter a string: Hello this is Nancy Soni\n",
      "Hello\n",
      "Nancy\n",
      "Soni\n",
      "is\n",
      "this\n"
     ]
    }
   ],
   "source": [
    "s = input(\"Enter a string: \")\n",
    "words = s.split()\n",
    "words.sort()\n",
    "for word in words:\n",
    "    print(word)\n"
   ]
  },
  {
   "cell_type": "markdown",
   "id": "0936a133",
   "metadata": {},
   "source": [
    "# 5. Write a Python Program to Remove Punctuation From a String?"
   ]
  },
  {
   "cell_type": "code",
   "execution_count": 16,
   "id": "3604c653",
   "metadata": {},
   "outputs": [],
   "source": [
    "def removePunctuations():\n",
    "    punctuations = '''!()-[]{};:'\"\\,<>./?@#$%^&*_~'''\n",
    "    in_string = input('Enter a String: ')\n",
    "    out_string = ''\n",
    "    for ele in in_string:\n",
    "        if ele not in punctuations:\n",
    "            out_string += ele\n",
    "    print(out_string)"
   ]
  },
  {
   "cell_type": "code",
   "execution_count": 17,
   "id": "d50dc14b",
   "metadata": {},
   "outputs": [
    {
     "name": "stdout",
     "output_type": "stream",
     "text": [
      "Enter a String: Hello!! My Name is Nancy Soni....\n",
      "Hello My Name is Nancy Soni\n"
     ]
    }
   ],
   "source": [
    "removePunctuations()"
   ]
  }
 ],
 "metadata": {
  "kernelspec": {
   "display_name": "Python 3 (ipykernel)",
   "language": "python",
   "name": "python3"
  },
  "language_info": {
   "codemirror_mode": {
    "name": "ipython",
    "version": 3
   },
   "file_extension": ".py",
   "mimetype": "text/x-python",
   "name": "python",
   "nbconvert_exporter": "python",
   "pygments_lexer": "ipython3",
   "version": "3.9.7"
  }
 },
 "nbformat": 4,
 "nbformat_minor": 5
}
