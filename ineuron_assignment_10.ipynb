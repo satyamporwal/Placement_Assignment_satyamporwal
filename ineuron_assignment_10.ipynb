{
 "cells": [
  {
   "cell_type": "markdown",
   "id": "db19f363-7916-445a-afd2-ab5a2d64ec7a",
   "metadata": {},
   "source": [
    "1. How do you distinguish between shutil.copy() and shutil.copytree()?\n",
    "The shutil.copy() function will copy a single file, while shutil.copytree() will copy an entire folder, along with all its contents.\n",
    "\n",
    "2. What function is used to rename files?\n",
    "The shutil.move() function is used for renaming files, as well as moving them.\n",
    "\n",
    "3. What is the difference between the delete functions in the send2trash and shutil modules?\n",
    "The send2trash functions will move a file or folder to the recycle bin, while shutil functions will permanently delete files and folders.\n",
    "\n",
    "4.ZipFile objects have a close() method just like File objects’ close() method. What ZipFile method is equivalent to File objects’ open() method?\n",
    "ZipFile Module provides a method called as zipfile.ZipFile() to read and write to zipFiles. it takes arugments such as filename and mode etc zipfile.ZipFile('filename', mode = 'r')\n",
    "\n"
   ]
  },
  {
   "cell_type": "code",
   "execution_count": 3,
   "id": "fd78791b-398b-4743-8395-a4c36f36b2fb",
   "metadata": {},
   "outputs": [
    {
     "ename": "SyntaxError",
     "evalue": "(unicode error) 'unicodeescape' codec can't decode bytes in position 2-3: truncated \\UXXXXXXXX escape (3896282741.py, line 20)",
     "output_type": "error",
     "traceback": [
      "\u001b[1;36m  File \u001b[1;32m\"C:\\Users\\SHIVAM\\AppData\\Local\\Temp\\ipykernel_3208\\3896282741.py\"\u001b[1;36m, line \u001b[1;32m20\u001b[0m\n\u001b[1;33m    source_folder = \"C:\\Users\\SHIVAM\\Untitled1.ipynb\"\u001b[0m\n\u001b[1;37m                                                     ^\u001b[0m\n\u001b[1;31mSyntaxError\u001b[0m\u001b[1;31m:\u001b[0m (unicode error) 'unicodeescape' codec can't decode bytes in position 2-3: truncated \\UXXXXXXXX escape\n"
     ]
    }
   ],
   "source": [
    "#5. Create a programme that searches a folder tree for files with a certain file extension (such as .pdf or .jpg). Copy these files from whatever location they are in to a new folder.\n",
    "import os\n",
    "import shutil\n",
    "\n",
    "def search_and_copy_files(source_folder, target_folder, file_extension):\n",
    "    # Create the target folder if it doesn't exist\n",
    "    if not os.path.exists(target_folder):\n",
    "        os.makedirs(target_folder)\n",
    "\n",
    "    # Traverse the folder tree\n",
    "    for root, _, files in os.walk(source_folder):\n",
    "        for file in files:\n",
    "            if file.endswith(file_extension):\n",
    "                # Get the full path of the source file\n",
    "                source_file = os.path.join(root, file)\n",
    "                # Copy the file to the target folder\n",
    "                shutil.copy2(source_file, target_folder)\n",
    "\n",
    "# Set the source folder, target folder, and file extension\n",
    "source_folder = \"C:\\Users\\SHIVAM\\Untitled1.ipynb\"\n",
    "target_folder = \"C:\\Users\\SHIVAM\\Untitled4.ipynbb\"\n",
    "file_extension = \".pdf\"\n",
    "\n",
    "# Call the search_and_copy_files function\n",
    "search_and_copy_files(source_folder, target_folder, file_extension)\n"
   ]
  },
  {
   "cell_type": "code",
   "execution_count": null,
   "id": "911da673-cbd7-43b4-a584-a7648079b151",
   "metadata": {},
   "outputs": [],
   "source": []
  }
 ],
 "metadata": {
  "kernelspec": {
   "display_name": "Python 3 (ipykernel)",
   "language": "python",
   "name": "python3"
  },
  "language_info": {
   "codemirror_mode": {
    "name": "ipython",
    "version": 3
   },
   "file_extension": ".py",
   "mimetype": "text/x-python",
   "name": "python",
   "nbconvert_exporter": "python",
   "pygments_lexer": "ipython3",
   "version": "3.9.13"
  }
 },
 "nbformat": 4,
 "nbformat_minor": 5
}
