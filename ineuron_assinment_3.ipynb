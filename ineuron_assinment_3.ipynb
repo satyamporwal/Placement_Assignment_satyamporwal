{
 "cells": [
  {
   "cell_type": "raw",
   "id": "7a394c24-6ace-4bb1-88d2-1e7e8d95912a",
   "metadata": {},
   "source": [
    "1. Why are functions advantageous to have in your programs?\n",
    "2. When does the code in a function run: when it's specified or when it's called?\n",
    "3. What statement creates a function?\n",
    "4. What is the difference between a function and a function call?\n",
    "5. How many global scopes are there in a Python program? How many local scopes?\n",
    "6. What happens to variables in a local scope when the function call returns?\n",
    "7. What is the concept of a return value? Is it possible to have a return value in an expression?\n",
    "8. If a function does not have a return statement, what is the return value of a call to that function?\n",
    "9. How do you make a function variable refer to the global variable?\n",
    "10. What is the data type of None?\n",
    "11. What does the sentence import areallyourpetsnamederic do?\n",
    "12. If you had a bacon() feature in a spam module, what would you call it after importing spam?\n",
    "13. What can you do to save a programme from crashing if it encounters an error?\n",
    "14. What is the purpose of the try clause? What is the purpose of the except clause?"
   ]
  },
  {
   "cell_type": "raw",
   "id": "5eaa8f4b-d8f5-4f5f-bb2a-4db1e655b851",
   "metadata": {},
   "source": [
    "1 - Functions are advantageous because they promote code reusability, improve modularity, enhance code readability, facilitate debugging, and provide abstraction by encapsulating specific tasks behind a function name and interface.\n"
   ]
  },
  {
   "cell_type": "raw",
   "id": "b3714e46-7ef5-4b58-a305-b22c65f16763",
   "metadata": {},
   "source": [
    "2- The code in a function runs when it is called. The function acts as a self-contained unit of code that remains inactive until invoked. When the function is called, its code is executed, and the program flow transfers to the function."
   ]
  },
  {
   "cell_type": "raw",
   "id": "ea335f59-86a6-471c-b095-356eda5bc26d",
   "metadata": {},
   "source": [
    "3 def statment is used for creating a function\n",
    "   "
   ]
  },
  {
   "cell_type": "raw",
   "id": "cb168de5-451b-4bc0-b762-5aed514d4ea0",
   "metadata": {},
   "source": [
    "4 A function is a block of code that performs a specific task, while a function call is the act of invoking or executing that function in the program."
   ]
  },
  {
   "cell_type": "raw",
   "id": "76fac73e-9764-4eae-8f95-f5860003499e",
   "metadata": {},
   "source": [
    "5 There is one global scope in a Python program, accessible throughout the program. The number of local scopes depends on the number of functions or code blocks defined."
   ]
  },
  {
   "cell_type": "code",
   "execution_count": null,
   "id": "54a8e891-a2b1-4d31-9dd7-a17fcf6fc920",
   "metadata": {},
   "outputs": [],
   "source": [
    "6 "
   ]
  },
  {
   "cell_type": "code",
   "execution_count": null,
   "id": "8610dcba-651a-4ec8-b961-e14fab56e4fe",
   "metadata": {},
   "outputs": [],
   "source": []
  },
  {
   "cell_type": "code",
   "execution_count": null,
   "id": "3e8ced12-01d4-454c-af02-ddcfb7da931e",
   "metadata": {},
   "outputs": [],
   "source": []
  }
 ],
 "metadata": {
  "kernelspec": {
   "display_name": "Python 3 (ipykernel)",
   "language": "python",
   "name": "python3"
  },
  "language_info": {
   "codemirror_mode": {
    "name": "ipython",
    "version": 3
   },
   "file_extension": ".py",
   "mimetype": "text/x-python",
   "name": "python",
   "nbconvert_exporter": "python",
   "pygments_lexer": "ipython3",
   "version": "3.9.13"
  }
 },
 "nbformat": 4,
 "nbformat_minor": 5
}
