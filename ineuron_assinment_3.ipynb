{
 "cells": [
  {
   "cell_type": "markdown",
   "id": "f3f8eb25-d2b7-468f-90b9-7c9fc99c6573",
   "metadata": {},
   "source": [
    "\"\"\"1. Why are functions advantageous to have in your programs?\n",
    "2. When does the code in a function run: when it's specified or when it's called?\n",
    "3. What statement creates a function?\n",
    "4. What is the difference between a function and a function call?\n",
    "5. How many global scopes are there in a Python program? How many local scopes?\n",
    "6. What happens to variables in a local scope when the function call returns?\n",
    "7. What is the concept of a return value? Is it possible to have a return value in an expression?\n",
    "8. If a function does not have a return statement, what is the return value of a call to that function?\n",
    "9. How do you make a function variable refer to the global variable?\n",
    "10. What is the data type of None?\n",
    "11. What does the sentence import areallyourpetsnamederic do?\n",
    "12. If you had a bacon() feature in a spam module, what would you call it after importing spam?\n",
    "13. What can you do to save a programme from crashing if it encounters an error?\n",
    "14. What is the purpose of the try clause? What is the purpose of the except clause?\"\"\""
   ]
  },
  {
   "cell_type": "markdown",
   "id": "2a9b2770-111c-4a72-8301-76bc6c3dd20f",
   "metadata": {},
   "source": [
    "1 - Functions are advantageous because they promote code reusability, improve modularity, enhance code readability, facilitate debugging, and provide abstraction by encapsulating specific tasks behind a function name and interface.\n"
   ]
  },
  {
   "cell_type": "markdown",
   "id": "bd7e5180-ec2f-40b0-a77a-03ffb2d94f68",
   "metadata": {},
   "source": [
    "2- The code in a function runs when it is called. The function acts as a self-contained unit of code that remains inactive until invoked. When the function is called, its code is executed, and the program flow transfers to the function."
   ]
  },
  {
   "cell_type": "markdown",
   "id": "edd4d8c7-aa7c-47ab-b68f-524ce0a5dfe0",
   "metadata": {},
   "source": [
    "3 def statment is used for creating a function\n",
    "   "
   ]
  },
  {
   "cell_type": "markdown",
   "id": "55e4e5c3-77ad-4a4b-b04b-0b401db47d2a",
   "metadata": {},
   "source": [
    "4 A function is a block of code that performs a specific task, while a function call is the act of invoking or executing that function in the program."
   ]
  },
  {
   "cell_type": "markdown",
   "id": "06789ba4-4cdc-4dbd-b435-fdc93a92a589",
   "metadata": {},
   "source": [
    "5 There is one global scope in a Python program, accessible throughout the program. The number of local scopes depends on the number of functions or code blocks defined."
   ]
  },
  {
   "cell_type": "code",
   "execution_count": null,
   "id": "54a8e891-a2b1-4d31-9dd7-a17fcf6fc920",
   "metadata": {},
   "outputs": [],
   "source": [
    "6 "
   ]
  },
  {
   "cell_type": "code",
   "execution_count": null,
   "id": "8610dcba-651a-4ec8-b961-e14fab56e4fe",
   "metadata": {},
   "outputs": [],
   "source": []
  },
  {
   "cell_type": "code",
   "execution_count": null,
   "id": "3e8ced12-01d4-454c-af02-ddcfb7da931e",
   "metadata": {},
   "outputs": [],
   "source": []
  }
 ],
 "metadata": {
  "kernelspec": {
   "display_name": "Python 3 (ipykernel)",
   "language": "python",
   "name": "python3"
  },
  "language_info": {
   "codemirror_mode": {
    "name": "ipython",
    "version": 3
   },
   "file_extension": ".py",
   "mimetype": "text/x-python",
   "name": "python",
   "nbconvert_exporter": "python",
   "pygments_lexer": "ipython3",
   "version": "3.9.13"
  }
 },
 "nbformat": 4,
 "nbformat_minor": 5
}
