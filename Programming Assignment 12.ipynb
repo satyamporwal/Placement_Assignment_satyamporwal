{
 "cells": [
  {
   "cell_type": "markdown",
   "id": "6f82383f",
   "metadata": {},
   "source": [
    "# 1. Write a Python program to Extract Unique values dictionary values?"
   ]
  },
  {
   "cell_type": "code",
   "execution_count": 4,
   "id": "2888c661",
   "metadata": {},
   "outputs": [
    {
     "name": "stdout",
     "output_type": "stream",
     "text": [
      "The original dictionary is: {'A': [1, 3, 5, 4], 'B': [4, 6, 8, 10], 'C': [6, 12, 4, 8], 'D': [5, 7, 2]}\n",
      "The unique values list is: [1, 2, 3, 4, 5, 6, 7, 8, 10, 12]\n"
     ]
    }
   ],
   "source": [
    "from itertools import chain\n",
    "d = {'A' : [1, 3, 5, 4], 'B' : [4, 6, 8, 10], 'C' : [6, 12, 4 ,8], 'D' : [5, 7, 2]}\n",
    "print(\"The original dictionary is:\", d)\n",
    "res = list(sorted(set(chain(*d.values()))))\n",
    "print(\"The unique values list is:\" ,res)\n"
   ]
  },
  {
   "cell_type": "markdown",
   "id": "7edf2cdd",
   "metadata": {},
   "source": [
    "# 2. Write a Python program to find the sum of all items in a dictionary?"
   ]
  },
  {
   "cell_type": "code",
   "execution_count": 5,
   "id": "f552f0ea",
   "metadata": {},
   "outputs": [
    {
     "name": "stdout",
     "output_type": "stream",
     "text": [
      "Sum of all items: 207\n"
     ]
    }
   ],
   "source": [
    "d = {'A' : 26, 'B' : 78, 'C' : 13, 'D' : 90}\n",
    "print('Sum of all items:',sum(d.values()))"
   ]
  },
  {
   "cell_type": "markdown",
   "id": "76df380b",
   "metadata": {},
   "source": [
    "# 3. Write a Python program to Merging two Dictionaries?"
   ]
  },
  {
   "cell_type": "code",
   "execution_count": 6,
   "id": "6cf7d688",
   "metadata": {},
   "outputs": [
    {
     "name": "stdout",
     "output_type": "stream",
     "text": [
      "{1: 'a', 2: 'b', 3: 'c', 4: 'd'}\n"
     ]
    }
   ],
   "source": [
    "dict_1 = {1: 'a', 2: 'b'}\n",
    "dict_2 = {3: 'c', 4: 'd'}\n",
    "print(dict_1 | dict_2)"
   ]
  },
  {
   "cell_type": "markdown",
   "id": "0efd6428",
   "metadata": {},
   "source": [
    "# 4. Write a Python program to convert key-values list to flat dictionary?"
   ]
  },
  {
   "cell_type": "code",
   "execution_count": 7,
   "id": "2b77151a",
   "metadata": {},
   "outputs": [
    {
     "data": {
      "text/plain": [
       "{'A': 26, 'B': 78, 'C': 13, 'D': 90}"
      ]
     },
     "execution_count": 7,
     "metadata": {},
     "output_type": "execute_result"
    }
   ],
   "source": [
    "l = [('A',26), ('B',78), ('C',13), ('D',90)]\n",
    "dict(l)"
   ]
  },
  {
   "cell_type": "markdown",
   "id": "3c854308",
   "metadata": {},
   "source": [
    "# 5. Write a Python program to insertion at the beginning in OrderedDict?"
   ]
  },
  {
   "cell_type": "code",
   "execution_count": 9,
   "id": "c847bd09",
   "metadata": {},
   "outputs": [
    {
     "name": "stdout",
     "output_type": "stream",
     "text": [
      "Resultant Dictionary: OrderedDict([('D', 90), ('A', 26), ('B', 78), ('C', 13)])\n"
     ]
    }
   ],
   "source": [
    "from collections import OrderedDict\n",
    "dict_1 = OrderedDict([('A',26), ('B',78), ('C',13)])\n",
    "insrt = OrderedDict([('D',90)])\n",
    "final = OrderedDict(list(insrt.items()) + list(dict_1.items()))\n",
    "\n",
    "print(\"Resultant Dictionary:\", final)"
   ]
  },
  {
   "cell_type": "markdown",
   "id": "28a5006b",
   "metadata": {},
   "source": [
    "# 6. Write a Python program to check order of character in string using OrderedDict()?"
   ]
  },
  {
   "cell_type": "code",
   "execution_count": 10,
   "id": "e739b387",
   "metadata": {},
   "outputs": [
    {
     "name": "stdout",
     "output_type": "stream",
     "text": [
      "{'a': 1000, 'f': 200, 'd': 300, 'c': 400, 'b': 500, 'e': 600}\n",
      "OrderedDict([('a', 1000), ('b', 500), ('c', 400), ('d', 300), ('e', 600), ('f', 200)])\n"
     ]
    }
   ],
   "source": [
    "from collections import OrderedDict\n",
    "\n",
    "initial_list = {'a': 1000, 'f': 200, 'd': 300, 'c': 400, 'b': 500, 'e': 600}\n",
    "print(initial_list)\n",
    "\n",
    "final_list = OrderedDict(dict(sorted(initial_list.items())))\n",
    "print(final_list)"
   ]
  },
  {
   "cell_type": "markdown",
   "id": "d5653ddf",
   "metadata": {},
   "source": [
    "# 7. Write a Python program to sort Python Dictionaries by Key or Value?"
   ]
  },
  {
   "cell_type": "code",
   "execution_count": null,
   "id": "9ee282bb",
   "metadata": {},
   "outputs": [],
   "source": []
  }
 ],
 "metadata": {
  "kernelspec": {
   "display_name": "Python 3 (ipykernel)",
   "language": "python",
   "name": "python3"
  },
  "language_info": {
   "codemirror_mode": {
    "name": "ipython",
    "version": 3
   },
   "file_extension": ".py",
   "mimetype": "text/x-python",
   "name": "python",
   "nbconvert_exporter": "python",
   "pygments_lexer": "ipython3",
   "version": "3.9.12"
  }
 },
 "nbformat": 4,
 "nbformat_minor": 5
}
