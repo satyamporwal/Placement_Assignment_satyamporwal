{
 "cells": [
  {
   "cell_type": "code",
   "execution_count": 1,
   "id": "518e6809",
   "metadata": {},
   "outputs": [],
   "source": [
    "l = [23,56,12,4,7,25,89,10,9,2]"
   ]
  },
  {
   "cell_type": "markdown",
   "id": "187df932",
   "metadata": {},
   "source": [
    "# 1. Write a Python program to find sum of elements in list?"
   ]
  },
  {
   "cell_type": "code",
   "execution_count": 9,
   "id": "6934b039",
   "metadata": {},
   "outputs": [
    {
     "name": "stdout",
     "output_type": "stream",
     "text": [
      "[23, 56, 12, 4, 7, 25, 89, 10, 9, 2]\n",
      "Sum of List: 237\n"
     ]
    }
   ],
   "source": [
    "def sumlist(l):\n",
    "    sum = 0\n",
    "    for i in range(len(l)):\n",
    "        sum = sum + l[i]\n",
    "    return sum \n",
    "print(l)\n",
    "print(\"Sum of List:\", sumlist(l))"
   ]
  },
  {
   "cell_type": "markdown",
   "id": "6a1724d0",
   "metadata": {},
   "source": [
    "# 2. Write a Python program to Multiply all numbers in the list?"
   ]
  },
  {
   "cell_type": "code",
   "execution_count": 10,
   "id": "b2bf751f",
   "metadata": {},
   "outputs": [
    {
     "name": "stdout",
     "output_type": "stream",
     "text": [
      "[23, 56, 12, 4, 7, 25, 89, 10, 9, 2]\n",
      "Multiplication of all Numbers in the list: 173323584000\n"
     ]
    }
   ],
   "source": [
    "import math\n",
    "def mul_list(l):\n",
    "    return math.prod(l)\n",
    "print(l)\n",
    "print('Multiplication of all Numbers in the list:', mul_list(l))"
   ]
  },
  {
   "cell_type": "markdown",
   "id": "b1adbf34",
   "metadata": {},
   "source": [
    "# 3. Write a Python program to find smallest number in a list?"
   ]
  },
  {
   "cell_type": "code",
   "execution_count": 11,
   "id": "fddc372e",
   "metadata": {},
   "outputs": [
    {
     "data": {
      "text/plain": [
       "[23, 56, 12, 4, 7, 25, 89, 10, 9, 2]"
      ]
     },
     "execution_count": 11,
     "metadata": {},
     "output_type": "execute_result"
    }
   ],
   "source": [
    "l"
   ]
  },
  {
   "cell_type": "code",
   "execution_count": 13,
   "id": "17d01cc6",
   "metadata": {},
   "outputs": [
    {
     "name": "stdout",
     "output_type": "stream",
     "text": [
      "Smallest number in the list: 2\n"
     ]
    }
   ],
   "source": [
    "def smallest(l):\n",
    "    small = min(l)\n",
    "    return small\n",
    "print(\"Smallest number in the list:\", smallest(l))"
   ]
  },
  {
   "cell_type": "markdown",
   "id": "beb7bfd2",
   "metadata": {},
   "source": [
    "# 4. Write a Python program to find largest number in a list?"
   ]
  },
  {
   "cell_type": "code",
   "execution_count": 14,
   "id": "9812cf89",
   "metadata": {},
   "outputs": [
    {
     "name": "stdout",
     "output_type": "stream",
     "text": [
      "Largest number in the list: 89\n"
     ]
    }
   ],
   "source": [
    "l = [23,56,12,4,7,25,89,10,9,2]\n",
    "def largest(l):\n",
    "    large = max(l)\n",
    "    return large\n",
    "print(\"Largest number in the list:\", largest(l))"
   ]
  },
  {
   "cell_type": "markdown",
   "id": "242ff02f",
   "metadata": {},
   "source": [
    "# 5. Write a Python program to find second largest number in a list?"
   ]
  },
  {
   "cell_type": "code",
   "execution_count": 17,
   "id": "e63632e0",
   "metadata": {},
   "outputs": [
    {
     "name": "stdout",
     "output_type": "stream",
     "text": [
      "Second largest number in the list: 56\n"
     ]
    }
   ],
   "source": [
    "l = [23,56,12,4,7,25,89,10,9,2]\n",
    "def second_largest(l):\n",
    "    l.sort()\n",
    "    return l[-2]\n",
    "print(\"Second largest number in the list:\", second_largest(l))"
   ]
  },
  {
   "cell_type": "markdown",
   "id": "868b8dfd",
   "metadata": {},
   "source": [
    "# 6. Write a Python program to find N largest elements from a list?"
   ]
  },
  {
   "cell_type": "code",
   "execution_count": 18,
   "id": "4fd11236",
   "metadata": {},
   "outputs": [
    {
     "name": "stdout",
     "output_type": "stream",
     "text": [
      "Enter size of list5\n",
      "Enter element of list12\n",
      "Enter element of list20\n",
      "Enter element of list7\n",
      "Enter element of list67\n",
      "Enter element of list90\n",
      "Enter N3\n",
      "3 max elements in [12, 20, 7, 67, 90]\n",
      "[20, 67, 90]\n"
     ]
    }
   ],
   "source": [
    "def N_max_elements(l, N):\n",
    "    l.sort()\n",
    "    return l[-N: ]\n",
    "l1 = []\n",
    "n = int(input(\"Enter size of list\"))\n",
    "for i in range(0,n):\n",
    "    e = int(input(\"Enter element of list\"))\n",
    "    l1.append(e)\n",
    "n = int(input(\"Enter N\"))\n",
    "print(n,\"max elements in\", l1)\n",
    "\n",
    "print(N_max_elements(l1,n))"
   ]
  },
  {
   "cell_type": "markdown",
   "id": "e20396af",
   "metadata": {},
   "source": [
    "# 7. Write a Python program to print even numbers in a list?"
   ]
  },
  {
   "cell_type": "code",
   "execution_count": 23,
   "id": "94d78e45",
   "metadata": {},
   "outputs": [
    {
     "name": "stdout",
     "output_type": "stream",
     "text": [
      "Even Numbers in [23, 56, 12, 4, 7, 25, 89, 10, 9, 2]\n",
      "[56, 12, 4, 10, 2]\n"
     ]
    }
   ],
   "source": [
    "l = [23,56,12,4,7,25,89,10,9,2]\n",
    "def even(l):\n",
    "    new_list=[]\n",
    "    for i in l:\n",
    "        if i%2 == 0:\n",
    "            new_list.append(i)\n",
    "    return new_list\n",
    "print(\"Even Numbers in\",l)\n",
    "print(even(l))"
   ]
  },
  {
   "cell_type": "markdown",
   "id": "490884d6",
   "metadata": {},
   "source": [
    "# 8. Write a Python program to print odd numbers in a List?"
   ]
  },
  {
   "cell_type": "code",
   "execution_count": 24,
   "id": "c7145715",
   "metadata": {},
   "outputs": [
    {
     "name": "stdout",
     "output_type": "stream",
     "text": [
      "Odd numbers in [23, 56, 12, 4, 7, 25, 89, 10, 9, 2]\n",
      "[23, 7, 25, 89, 9]\n"
     ]
    }
   ],
   "source": [
    "l = [23,56,12,4,7,25,89,10,9,2]\n",
    "def odd(l):\n",
    "    new_list = []\n",
    "    for i in l:\n",
    "        if i%2 !=0:\n",
    "            new_list.append(i)\n",
    "    return new_list\n",
    "print(\"Odd numbers in\",l)\n",
    "print(odd(l))"
   ]
  },
  {
   "cell_type": "markdown",
   "id": "5c62bbb4",
   "metadata": {},
   "source": [
    "# 9. Write a Python program to Remove empty List from List?"
   ]
  },
  {
   "cell_type": "code",
   "execution_count": 29,
   "id": "e4df6c39",
   "metadata": {},
   "outputs": [
    {
     "name": "stdout",
     "output_type": "stream",
     "text": [
      "There is an Empty list in [23, 56, 12, 4, [], 7, 25, 89, 10, 9, 2] at Position 4\n",
      "The List after removing [] is [23, 56, 12, 4, 7, 25, 89, 10, 9, 2]\n"
     ]
    }
   ],
   "source": [
    "l = [23,56,12,4,[],7,25,89,10,9,2]\n",
    "def removeEmptyList(l):\n",
    "    if [] in l:\n",
    "        print(f'There is an Empty list in {l} at Position {l.index([])}')\n",
    "        l.remove([])\n",
    "        print(f'The List after removing [] is {l}')\n",
    "    else:\n",
    "        print(f'There is no [] List in the list {l}')\n",
    "        \n",
    "removeEmptyList(l)\n",
    "    "
   ]
  },
  {
   "cell_type": "markdown",
   "id": "3de55787",
   "metadata": {},
   "source": [
    "# 10. Write a Python program to Cloning or Copying a list?"
   ]
  },
  {
   "cell_type": "code",
   "execution_count": 32,
   "id": "a51aa809",
   "metadata": {},
   "outputs": [
    {
     "name": "stdout",
     "output_type": "stream",
     "text": [
      "[23, 56, 12, 4, 7, 25, 89, 10, 9, 2] 1372407346816\n",
      "[23, 56, 12, 4, 7, 25, 89, 10, 9, 2] 1372407508864\n"
     ]
    }
   ],
   "source": [
    "import copy\n",
    "l = [23,56,12,4,7,25,89,10,9,2]\n",
    "def cloneList(l):\n",
    "    print(l, id(l))\n",
    "    cloned_list = l.copy()\n",
    "    print(cloned_list, id(cloned_list))\n",
    "    \n",
    "cloneList(l)"
   ]
  },
  {
   "cell_type": "markdown",
   "id": "06d74e91",
   "metadata": {},
   "source": [
    "# 11. Write a Python program to Count occurrences of an element in a list?"
   ]
  },
  {
   "cell_type": "code",
   "execution_count": 33,
   "id": "fb64d7c9",
   "metadata": {},
   "outputs": [
    {
     "name": "stdout",
     "output_type": "stream",
     "text": [
      "3 has occured 4 times\n"
     ]
    }
   ],
   "source": [
    "def countX(l1, x):\n",
    "    return l1.count(x)\n",
    "l1 = [2,4,6,3,6,3,7,9,3,3]\n",
    "x = 3\n",
    "print('{} has occured {} times'.format(x, countX(l1,x)))"
   ]
  }
 ],
 "metadata": {
  "kernelspec": {
   "display_name": "Python 3 (ipykernel)",
   "language": "python",
   "name": "python3"
  },
  "language_info": {
   "codemirror_mode": {
    "name": "ipython",
    "version": 3
   },
   "file_extension": ".py",
   "mimetype": "text/x-python",
   "name": "python",
   "nbconvert_exporter": "python",
   "pygments_lexer": "ipython3",
   "version": "3.9.12"
  }
 },
 "nbformat": 4,
 "nbformat_minor": 5
}
