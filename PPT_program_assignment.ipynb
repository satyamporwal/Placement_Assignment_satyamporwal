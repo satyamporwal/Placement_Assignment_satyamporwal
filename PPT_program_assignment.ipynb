{
 "cells": [
  {
   "cell_type": "markdown",
   "id": "d699d4cd-c98a-44d3-94cf-515839799c93",
   "metadata": {},
   "source": [
    "Write a Python program to reverse a string without using any built-in string reversal functions."
   ]
  },
  {
   "cell_type": "code",
   "execution_count": 2,
   "id": "ca07c2a7-396b-4167-ae3a-91edc407b2fd",
   "metadata": {},
   "outputs": [
    {
     "data": {
      "text/plain": [
       "'maytas si eman ym ,yeh'"
      ]
     },
     "execution_count": 2,
     "metadata": {},
     "output_type": "execute_result"
    }
   ],
   "source": [
    "my_string =  'hey, my name is satyam'\n",
    "reverse_string = my_string[::-1]\n",
    "reverse_string"
   ]
  },
  {
   "cell_type": "markdown",
   "id": "8037e71e-0789-4208-980c-bdecd3f1a1f7",
   "metadata": {},
   "source": [
    "2. Implement a function to check if a given string is a palindrome."
   ]
  },
  {
   "cell_type": "code",
   "execution_count": 6,
   "id": "e5c1ff2d-683e-4693-8e98-9e384a114ba9",
   "metadata": {},
   "outputs": [],
   "source": [
    "def is_palindrome(x):\n",
    "    if x == x[::-1]:\n",
    "        print('is a palindrome')\n",
    "    else:\n",
    "        print('not a palindrome')"
   ]
  },
  {
   "cell_type": "code",
   "execution_count": 13,
   "id": "f6e8e93f-b256-4102-999a-6ff36d296936",
   "metadata": {},
   "outputs": [
    {
     "name": "stdout",
     "output_type": "stream",
     "text": [
      "is a palindrome\n"
     ]
    }
   ],
   "source": [
    "is_palindrome(\"asasgffgsasa\")"
   ]
  },
  {
   "cell_type": "markdown",
   "id": "6d179ab0-e9a3-4dec-8f8c-7d623db6af63",
   "metadata": {},
   "source": [
    "3. Write a program to find the largest element in a given list."
   ]
  },
  {
   "cell_type": "code",
   "execution_count": 33,
   "id": "b5c6f4cc-6546-4de3-a15f-bb736d0429d1",
   "metadata": {},
   "outputs": [],
   "source": [
    "def find_largest_element(x):\n",
    "    y = sorted(x)\n",
    "    return y[-1]"
   ]
  },
  {
   "cell_type": "code",
   "execution_count": 36,
   "id": "c80d66e6-660e-4b8b-8351-0fda46800286",
   "metadata": {},
   "outputs": [
    {
     "data": {
      "text/plain": [
       "300"
      ]
     },
     "execution_count": 36,
     "metadata": {},
     "output_type": "execute_result"
    }
   ],
   "source": [
    "find_largest_element([300,5,6,200,4,100,50])"
   ]
  },
  {
   "cell_type": "markdown",
   "id": "1a9e8c64-981b-4580-8001-c04e4373464e",
   "metadata": {},
   "source": [
    "4. Implement a function to count the occurrence of each element in a list."
   ]
  },
  {
   "cell_type": "code",
   "execution_count": 55,
   "id": "710b6731-80e6-45ab-b2ca-b1bc3f4d7cae",
   "metadata": {},
   "outputs": [],
   "source": [
    "\n",
    "def occurence_count(x):\n",
    "    counts = {}\n",
    "    for item in x:\n",
    "        if item in counts:\n",
    "            counts[item] += 1\n",
    "        else:\n",
    "            counts[item] = 1\n",
    "    return counts\n",
    "        "
   ]
  },
  {
   "cell_type": "code",
   "execution_count": 56,
   "id": "c14dd168-8cef-4cb3-9965-12eabd2166b9",
   "metadata": {},
   "outputs": [
    {
     "data": {
      "text/plain": [
       "{1: 3, 2: 2, 4: 1}"
      ]
     },
     "execution_count": 56,
     "metadata": {},
     "output_type": "execute_result"
    }
   ],
   "source": [
    "occurence_count([1,2,1,2,4,1])"
   ]
  },
  {
   "cell_type": "markdown",
   "id": "fa9263d4-7f3e-47a0-96fe-e69f0e8e4364",
   "metadata": {},
   "source": [
    "5. Write a Python program to find the second largest number in a list.\n"
   ]
  },
  {
   "cell_type": "code",
   "execution_count": 57,
   "id": "30646eaf-36a9-4ed8-bd24-c53b4654899d",
   "metadata": {},
   "outputs": [],
   "source": [
    "def second_largest_number(x):\n",
    "    y = sorted(x)\n",
    "    return y[-2]"
   ]
  },
  {
   "cell_type": "code",
   "execution_count": 59,
   "id": "441332d9-98a5-463c-890c-951dca8d5c16",
   "metadata": {},
   "outputs": [
    {
     "data": {
      "text/plain": [
       "3300"
      ]
     },
     "execution_count": 59,
     "metadata": {},
     "output_type": "execute_result"
    }
   ],
   "source": [
    "second_largest_number([1,22,55,44,6600,22,200,3300,])"
   ]
  },
  {
   "cell_type": "markdown",
   "id": "971d735c-141d-4e0b-a70c-340dae00ee1a",
   "metadata": {},
   "source": [
    "6. Implement a function to remove duplicate elements from a list.\n"
   ]
  },
  {
   "cell_type": "code",
   "execution_count": 35,
   "id": "ae3f97cd-45ce-403b-9db5-dabe510a0efe",
   "metadata": {},
   "outputs": [],
   "source": [
    "def remove_duplicate_item(x):\n",
    "    count = []\n",
    "    for i in x:\n",
    "        if i not in count:\n",
    "            count.append(i)\n",
    "    print(count)\n",
    "        "
   ]
  },
  {
   "cell_type": "code",
   "execution_count": 36,
   "id": "b81c7c78-b0c0-4a93-8744-db90c9d1e58c",
   "metadata": {},
   "outputs": [
    {
     "name": "stdout",
     "output_type": "stream",
     "text": [
      "[1, 2, 4, 5, 3, 6]\n"
     ]
    }
   ],
   "source": [
    "remove_duplicate_item([1,2,4,1,5,2,3,6,4])"
   ]
  },
  {
   "cell_type": "markdown",
   "id": "09c02bed-7142-418c-809d-36455551eb1c",
   "metadata": {},
   "source": [
    "7. Write a program to calculate the factorial of a given number.\n"
   ]
  },
  {
   "cell_type": "code",
   "execution_count": 60,
   "id": "bae36a74-a9d1-4c3d-b811-d06fce4a6531",
   "metadata": {},
   "outputs": [],
   "source": [
    "def factorial(n):\n",
    "\n",
    "    if n == 0:\n",
    "        return 1\n",
    "    return n * factorial(n - 1)\n",
    "        "
   ]
  },
  {
   "cell_type": "code",
   "execution_count": 69,
   "id": "25e4ff5a-8621-4005-a463-8f71ca8cdda2",
   "metadata": {},
   "outputs": [
    {
     "data": {
      "text/plain": [
       "6227020800"
      ]
     },
     "execution_count": 69,
     "metadata": {},
     "output_type": "execute_result"
    }
   ],
   "source": [
    "factorial(13)"
   ]
  },
  {
   "cell_type": "markdown",
   "id": "d276f308-d007-4c6f-bba2-b72d1dd4f322",
   "metadata": {},
   "source": [
    "8. Implement a function to check if a given number is prime."
   ]
  },
  {
   "cell_type": "code",
   "execution_count": 90,
   "id": "350eb8dd-fe55-4b22-b1ec-1ebbaba04e5d",
   "metadata": {},
   "outputs": [],
   "source": [
    "def prime_number(n):\n",
    "    if n <= 1 and (n == 1 or n == 2):\n",
    "        print(\"Prime number\")\n",
    "    elif n % 2 != 0:\n",
    "        print(\"Prime number\")\n",
    "    else:\n",
    "        print(\"Not a prime number\")\n"
   ]
  },
  {
   "cell_type": "code",
   "execution_count": 108,
   "id": "bf2d830f-20c7-416f-8e80-a9b32fbcc9c3",
   "metadata": {},
   "outputs": [
    {
     "name": "stdout",
     "output_type": "stream",
     "text": [
      "Prime number\n"
     ]
    }
   ],
   "source": [
    "prime_number(97)"
   ]
  },
  {
   "cell_type": "markdown",
   "id": "83942513-2378-475d-9eaa-adf9fb1cc54d",
   "metadata": {},
   "source": [
    "9. Write a Python program to sort a list of integers in ascending order.\n"
   ]
  },
  {
   "cell_type": "code",
   "execution_count": 113,
   "id": "c37b3259-679c-415c-9874-d9131d0baf7c",
   "metadata": {},
   "outputs": [],
   "source": [
    "def ascending(n):\n",
    "    y = sorted(n)\n",
    "    print(y)"
   ]
  },
  {
   "cell_type": "code",
   "execution_count": 114,
   "id": "533921b3-0fd5-4dd6-a305-a0aa149f7045",
   "metadata": {},
   "outputs": [
    {
     "name": "stdout",
     "output_type": "stream",
     "text": [
      "[1, 4, 5, 6, 6, 7, 8, 44, 99]\n"
     ]
    }
   ],
   "source": [
    "ascending([1,5,6,44,8,7,6,99,4])"
   ]
  },
  {
   "cell_type": "markdown",
   "id": "0645a2ac-a3ed-4421-b3af-df999fa0498e",
   "metadata": {},
   "source": [
    "10. Implement a function to find the sum of all numbers in a list.\n"
   ]
  },
  {
   "cell_type": "code",
   "execution_count": 117,
   "id": "c9c913d8-deaf-47a0-a525-099d0b81706d",
   "metadata": {},
   "outputs": [],
   "source": [
    "def sum_of_numbers(n):\n",
    "    total = 0\n",
    "    for i in n:\n",
    "        total += i\n",
    "    print(total)"
   ]
  },
  {
   "cell_type": "code",
   "execution_count": 118,
   "id": "55162174-74ad-4dc5-9a9e-936b7774a8bb",
   "metadata": {},
   "outputs": [
    {
     "name": "stdout",
     "output_type": "stream",
     "text": [
      "37\n"
     ]
    }
   ],
   "source": [
    "sum_of_numbers([1,5,8,6,9,8])"
   ]
  },
  {
   "cell_type": "markdown",
   "id": "89c62e79-13d0-45b8-b324-f92f0bc598f4",
   "metadata": {},
   "source": [
    "11. Write a program to find the common elements between two lists.\n"
   ]
  },
  {
   "cell_type": "code",
   "execution_count": 129,
   "id": "ac893865-2ecc-4db2-89ea-d973aad8039c",
   "metadata": {},
   "outputs": [],
   "source": [
    "def comman_elements(x,y):\n",
    "    new_list = []\n",
    "    for i in x:\n",
    "        if i in y:\n",
    "            new_list.append(i)\n",
    "    print(new_list)"
   ]
  },
  {
   "cell_type": "code",
   "execution_count": 130,
   "id": "d9340d94-174f-446f-aa30-09ae6ca9c17e",
   "metadata": {},
   "outputs": [
    {
     "name": "stdout",
     "output_type": "stream",
     "text": [
      "[3, 'shivani']\n"
     ]
    }
   ],
   "source": [
    "comman_elements(['satyam',1,5,3,'shivani'],['shivani',3,8,9,210])"
   ]
  },
  {
   "cell_type": "markdown",
   "id": "cdd87eb9-9117-47af-9e65-22e949202fb6",
   "metadata": {},
   "source": [
    "12. Implement a function to check if a given string is an anagram of another string."
   ]
  },
  {
   "cell_type": "code",
   "execution_count": 32,
   "id": "6468996c-9f76-42e2-ad0f-3aaae7121814",
   "metadata": {},
   "outputs": [],
   "source": [
    "def is_anagram(string1, string2):\n",
    "    #Convert both strings to lowercase and remove whitespace\n",
    "    string1 = string1.lower().replace(\" \", \"\")\n",
    "    string2 = string2.lower().replace(\" \", \"\")\n",
    "    \n",
    "\n",
    "    if len(string1) != len(string2):\n",
    "        return False\n",
    " \n",
    "    char_count = {}\n",
    "    \n",
    "    for char in string1:\n",
    "        if char in char_count:\n",
    "            char_count[char] += 1\n",
    "        else:\n",
    "            char_count[char] = 1\n",
    "    \n",
    "\n",
    "    for char in string2:\n",
    "        if char in char_count:\n",
    "            char_count[char] -= 1\n",
    "            if char_count[char] < 0:\n",
    "                return False\n",
    "        else:\n",
    "            return False\n",
    "    \n",
    "\n",
    "    return all(count == 0 for count in char_count.values())\n",
    "    "
   ]
  },
  {
   "cell_type": "code",
   "execution_count": 34,
   "id": "26156cef-88c1-4acf-8c71-983f2d202a31",
   "metadata": {},
   "outputs": [
    {
     "data": {
      "text/plain": [
       "True"
      ]
     },
     "execution_count": 34,
     "metadata": {},
     "output_type": "execute_result"
    }
   ],
   "source": [
    "is_anagram('satyam','maytas\n",
    "           ')"
   ]
  },
  {
   "cell_type": "markdown",
   "id": "fe7e8a9b-c2d8-48c0-b3bc-4f42765d71bd",
   "metadata": {},
   "source": [
    "13. Write a Python program to generate all permutations of a given string."
   ]
  },
  {
   "cell_type": "code",
   "execution_count": 46,
   "id": "5807cb62-7008-4abd-bd45-9f1239b358fc",
   "metadata": {},
   "outputs": [],
   "source": [
    "import itertools\n",
    "\n",
    "def get_permutations(string):\n",
    "    # Convert the string to a list of characters\n",
    "    chars = list(string)\n",
    "\n",
    "    # Use itertools.permutations to generate all permutations\n",
    "    permutations = list(itertools.permutations(chars))\n",
    "\n",
    "    # Convert each permutation back to a string\n",
    "    result = [''.join(x) for x in permutations]\n",
    "\n",
    "    return result\n",
    "\n",
    "\n",
    "\n"
   ]
  },
  {
   "cell_type": "code",
   "execution_count": 49,
   "id": "b5fb8c94-9dad-44a4-ad35-25adf7002575",
   "metadata": {},
   "outputs": [
    {
     "data": {
      "text/plain": [
       "['abc', 'acb', 'bac', 'bca', 'cab', 'cba']"
      ]
     },
     "execution_count": 49,
     "metadata": {},
     "output_type": "execute_result"
    }
   ],
   "source": [
    "get_permutations('abc')"
   ]
  },
  {
   "cell_type": "markdown",
   "id": "45376c67-8439-438e-950e-ca9936a5a195",
   "metadata": {},
   "source": [
    "14. Implement a function to calculate the Fibonacci sequence up to a given number of terms.\n"
   ]
  },
  {
   "cell_type": "code",
   "execution_count": 56,
   "id": "fcdfd1d5-90f1-442d-bc38-4a07d5d2d5a3",
   "metadata": {},
   "outputs": [],
   "source": [
    "def fibonacci_sequence(n):\n",
    "    # Check if the input is valid\n",
    "    if n <= 0:\n",
    "        raise ValueError(\"Number of terms must be a positive integer.\")\n",
    "\n",
    "    # Handle the special cases for the first two terms\n",
    "    if n == 1:\n",
    "        return [0]\n",
    "    elif n == 2:\n",
    "        return [0, 1]\n",
    "\n",
    "    # Calculate the Fibonacci sequence\n",
    "    sequence = [0, 1]  # Initialize the sequence with the first two terms\n",
    "\n",
    "    while len(sequence) < n:\n",
    "        next_term = sequence[-1] + sequence[-2]  # Calculate the next term\n",
    "        sequence.append(next_term)  # Add the next term to the sequence\n",
    "\n",
    "    return sequence\n",
    "\n"
   ]
  },
  {
   "cell_type": "code",
   "execution_count": 60,
   "id": "85a31803-1b97-412d-b9e6-34bc9df3460b",
   "metadata": {},
   "outputs": [
    {
     "data": {
      "text/plain": [
       "[0]"
      ]
     },
     "execution_count": 60,
     "metadata": {},
     "output_type": "execute_result"
    }
   ],
   "source": [
    "fibonacci_sequence(1)"
   ]
  },
  {
   "cell_type": "markdown",
   "id": "752558f6-d1c2-4de5-9081-0ebc07bea5e2",
   "metadata": {},
   "source": [
    "15. Write a program to find the median of a list of numbers.\n"
   ]
  },
  {
   "cell_type": "code",
   "execution_count": 63,
   "id": "09e10ec5-03ca-403d-a766-146d18d252fe",
   "metadata": {},
   "outputs": [],
   "source": [
    "\n",
    "\n",
    "def median(x):\n",
    "    length = len(x)\n",
    "    sort = sorted(x)\n",
    "    if length%2==0:\n",
    "        med= sort[length//2]\n",
    "        m = sort[length//2-1]\n",
    "        md = med+m\n",
    "        mg = md/2\n",
    "        print(mg)\n",
    "        \n",
    "    elif length%2 != 0:\n",
    "        medium= sort[length//2]\n",
    "        print(medium)\n",
    "        \n",
    "    \n",
    "    \n",
    "        \n",
    "\n",
    "   "
   ]
  },
  {
   "cell_type": "code",
   "execution_count": 64,
   "id": "3110f600-7a66-43a7-9ad8-d2e2617759a1",
   "metadata": {},
   "outputs": [
    {
     "name": "stdout",
     "output_type": "stream",
     "text": [
      "6\n"
     ]
    }
   ],
   "source": [
    "median([1,2,3,5,6,48,9,8,9])"
   ]
  },
  {
   "cell_type": "markdown",
   "id": "0df404bb-8a7a-4ff5-a6b3-2cb2e58f7b1a",
   "metadata": {},
   "source": [
    "16. Implement a function to check if a given list is sorted in non-decreasing order."
   ]
  },
  {
   "cell_type": "code",
   "execution_count": 84,
   "id": "d7c94893-74e2-401d-84f6-b737b47dfb8e",
   "metadata": {},
   "outputs": [],
   "source": [
    "def non_decesing_oder(x):\n",
    "    for i in range(len(x)-1):\n",
    "        if x[i+1]>= x[i]:\n",
    "            print('sorted in non-decreasing order')\n",
    "            \n",
    "        else:\n",
    "            print('not-sorted')"
   ]
  },
  {
   "cell_type": "code",
   "execution_count": 85,
   "id": "b901f702-715c-4a25-b086-5fea67b9aeb9",
   "metadata": {},
   "outputs": [
    {
     "name": "stdout",
     "output_type": "stream",
     "text": [
      "sorted in non-decreasing order\n",
      "sorted in non-decreasing order\n",
      "sorted in non-decreasing order\n",
      "sorted in non-decreasing order\n",
      "sorted in non-decreasing order\n",
      "not-sorted\n",
      "not-sorted\n",
      "sorted in non-decreasing order\n"
     ]
    }
   ],
   "source": [
    "non_decesing_oder([1,2,3,5,6,48,9,8,9])"
   ]
  },
  {
   "cell_type": "code",
   "execution_count": 99,
   "id": "601927d2-bb0f-412c-951e-178091b1f737",
   "metadata": {},
   "outputs": [],
   "source": [
    "def non_decreasing_order(x):\n",
    "    for i in range(len(x) - 1):\n",
    "        if x[i+1] < x[i]:\n",
    "            return False\n",
    "    return True\n",
    "\n",
    " "
   ]
  },
  {
   "cell_type": "code",
   "execution_count": 102,
   "id": "8bdeae1b-c76e-481b-9f06-dc3f8f34eb2d",
   "metadata": {},
   "outputs": [
    {
     "data": {
      "text/plain": [
       "False"
      ]
     },
     "execution_count": 102,
     "metadata": {},
     "output_type": "execute_result"
    }
   ],
   "source": [
    "non_decreasing_order([1,2,35,5,6,7,8,10,11])"
   ]
  },
  {
   "cell_type": "markdown",
   "id": "b6f48137-2336-45a8-97b5-bccf605993ad",
   "metadata": {},
   "source": [
    "17. Write a Python program to find the intersection of two lists."
   ]
  },
  {
   "cell_type": "code",
   "execution_count": 2,
   "id": "62a1aae8-901e-4d4b-80d2-77d5766a290e",
   "metadata": {},
   "outputs": [],
   "source": [
    "def intersection(l1,l2):\n",
    "    inter_section =  []\n",
    "    set1 = set(l1)\n",
    "    set2 = set(l2)\n",
    "    for i in set1:\n",
    "        if i in set2:\n",
    "            inter_section.append(i)\n",
    "    print(inter_section)\n",
    "    "
   ]
  },
  {
   "cell_type": "code",
   "execution_count": 3,
   "id": "3138c10d-685e-43b6-b983-9a9185c1d87b",
   "metadata": {},
   "outputs": [
    {
     "name": "stdout",
     "output_type": "stream",
     "text": [
      "[3, 5]\n"
     ]
    }
   ],
   "source": [
    "intersection([1,2,3,4,5],[5,5,3,6,47])"
   ]
  },
  {
   "cell_type": "markdown",
   "id": "aadafb74-675f-4bd7-94c6-ee4f9e3ee64e",
   "metadata": {},
   "source": [
    "18. Implement a function to find the maximum subarray sum in a given list.\n"
   ]
  },
  {
   "cell_type": "code",
   "execution_count": 130,
   "id": "129dcdd1-3c97-465d-9549-a8a2ebfb2e70",
   "metadata": {},
   "outputs": [],
   "source": [
    "def max_subarray_sum(arr):\n",
    "    max_sum = arr[0]  # Initialize the maximum sum with the first element\n",
    "    current_sum = arr[0]  # Initialize the current sum with the first element\n",
    "\n",
    "    # Iterate through the list starting from the second element\n",
    "    for i in range(1, len(arr)):\n",
    "        current_sum = max(arr[i], current_sum + arr[i])\n",
    "        max_sum = max(max_sum, current_sum)\n",
    "\n",
    "    return max_sum"
   ]
  },
  {
   "cell_type": "code",
   "execution_count": 134,
   "id": "c2a69aff-99fa-4a35-8ad6-6f20727b6ec2",
   "metadata": {},
   "outputs": [
    {
     "name": "stdout",
     "output_type": "stream",
     "text": [
      "134\n"
     ]
    }
   ],
   "source": [
    "my_list = [5,6,7,99,8,2,1,6]x\n",
    "result = max_subarray_sum(my_list)\n",
    "print(result)"
   ]
  },
  {
   "cell_type": "markdown",
   "id": "b3b74ea2-15c0-4027-8018-9f38bd81741b",
   "metadata": {},
   "source": [
    "19. Write a program to remove all vowels from a given string.\n"
   ]
  },
  {
   "cell_type": "code",
   "execution_count": 13,
   "id": "ff2ed00b-9a9c-4654-b845-1a05e07eaf4e",
   "metadata": {},
   "outputs": [],
   "source": [
    "def remove_vowels(string):\n",
    "    vowels = ('a', 'e', 'i', 'o', 'u')\n",
    "    for vowel in vowels:\n",
    "        string = string.replace(vowel, '')\n",
    "    return string\n",
    "\n",
    "            \n",
    "   "
   ]
  },
  {
   "cell_type": "code",
   "execution_count": 14,
   "id": "fdb93154-4978-4297-bcb3-ddf5173ef375",
   "metadata": {},
   "outputs": [
    {
     "data": {
      "text/plain": [
       "'stym'"
      ]
     },
     "execution_count": 14,
     "metadata": {},
     "output_type": "execute_result"
    }
   ],
   "source": [
    "remove_vowels('satyam')"
   ]
  },
  {
   "cell_type": "markdown",
   "id": "ab37a5c5-9bdb-4f13-9249-61729cc437ae",
   "metadata": {},
   "source": [
    "20. Implement a function to reverse the order of words in a given sentence.\n"
   ]
  },
  {
   "cell_type": "code",
   "execution_count": 24,
   "id": "4e0cfa39-fbef-416a-b9ab-7ef8f3fcc85c",
   "metadata": {},
   "outputs": [],
   "source": [
    "def reverse_string(x):\n",
    "    y = x[::-1]\n",
    "    #str(y.join(' ',''))\n",
    "    return y"
   ]
  },
  {
   "cell_type": "code",
   "execution_count": 25,
   "id": "311007c5-53e9-4024-a60c-d2d08b2f16af",
   "metadata": {},
   "outputs": [
    {
     "data": {
      "text/plain": [
       "'lawrop maytas'"
      ]
     },
     "execution_count": 25,
     "metadata": {},
     "output_type": "execute_result"
    }
   ],
   "source": [
    "reverse_string('satyam porwal')"
   ]
  },
  {
   "cell_type": "code",
   "execution_count": 30,
   "id": "6d47d085-da71-4053-8706-62e01da0d7a1",
   "metadata": {},
   "outputs": [],
   "source": [
    "def reverse_sentence(sentence):\n",
    "    \n",
    "    words = sentence.split()\n",
    "    reversed_words = words[::-1]\n",
    "    \n",
    "    \n",
    "    reversed_sentence = ' '.join(reversed_words)\n",
    "    return reversed_sentence"
   ]
  },
  {
   "cell_type": "code",
   "execution_count": 32,
   "id": "029811ca-c627-4c37-8004-1d5acc990a82",
   "metadata": {},
   "outputs": [
    {
     "data": {
      "text/plain": [
       "'porwal satyam is name my hey,'"
      ]
     },
     "execution_count": 32,
     "metadata": {},
     "output_type": "execute_result"
    }
   ],
   "source": [
    "reverse_sentence('hey, my name is satyam porwal')"
   ]
  },
  {
   "cell_type": "markdown",
   "id": "1e4e4d40-59c7-4032-abd9-6b9478cd53dd",
   "metadata": {},
   "source": [
    "21. Write a Python program to check if two strings are anagrams of each other."
   ]
  },
  {
   "cell_type": "code",
   "execution_count": 33,
   "id": "d8a42a4d-8da8-4387-84b4-210d62440131",
   "metadata": {},
   "outputs": [],
   "source": [
    "def are_anagrams(s1, s2):\n",
    "    s1 = s1.lower().replace(' ', '')\n",
    "    s2 = s2.lower().replace(' ', '')\n",
    "\n",
    "\n",
    "    sorted_s1 = sorted(s1)\n",
    "    sorted_s2 = sorted(s2)\n",
    "\n",
    "    if sorted_s1 == sorted_s2:\n",
    "        return True\n",
    "    else:\n",
    "        return False\n"
   ]
  },
  {
   "cell_type": "code",
   "execution_count": 38,
   "id": "7a1aa651-bed7-485f-8119-0fd932153e36",
   "metadata": {},
   "outputs": [
    {
     "data": {
      "text/plain": [
       "True"
      ]
     },
     "execution_count": 38,
     "metadata": {},
     "output_type": "execute_result"
    }
   ],
   "source": [
    "string1 = \"listen\"\n",
    "string2 = \"silent\"\n",
    "result = are_anagrams(string1, string2)\n",
    "result\n"
   ]
  },
  {
   "cell_type": "markdown",
   "id": "16533c93-0a83-4cd9-9e85-20d8dfb0309b",
   "metadata": {},
   "source": [
    "22. Implement a function to find the first non-repeating character in a string."
   ]
  },
  {
   "cell_type": "code",
   "execution_count": 81,
   "id": "25bf2cdc-e830-407e-9bac-57f75e4fd381",
   "metadata": {},
   "outputs": [],
   "source": [
    "def first_non_repeating(string):\n",
    "    count = {}\n",
    "    s1 = string.lower()\n",
    "    \n",
    "    for char in s1:\n",
    "        if char in count:\n",
    "            count[char] += 1\n",
    "        else:\n",
    "            count[char] = 1\n",
    "            \n",
    "    for char in s1:\n",
    "        if count[char] == 1:\n",
    "            return char\n",
    "    \n",
    "    return None\n"
   ]
  },
  {
   "cell_type": "code",
   "execution_count": 82,
   "id": "56221434-3d7f-4693-9a9e-348615236bbb",
   "metadata": {},
   "outputs": [
    {
     "data": {
      "text/plain": [
       "'t'"
      ]
     },
     "execution_count": 82,
     "metadata": {},
     "output_type": "execute_result"
    }
   ],
   "source": [
    "first_non_repeating('aatyam')"
   ]
  },
  {
   "cell_type": "markdown",
   "id": "a96cc49d-dee0-4a6b-9069-4dbc7410616e",
   "metadata": {},
   "source": [
    "23. Write a program to find the prime factors of a given number.\n",
    "\n"
   ]
  },
  {
   "cell_type": "code",
   "execution_count": 113,
   "id": "3e3f0c1e-682d-478a-94ef-f79f7699a12d",
   "metadata": {},
   "outputs": [
    {
     "name": "stdout",
     "output_type": "stream",
     "text": [
      "[11]\n"
     ]
    }
   ],
   "source": [
    "def prime_factors(n):\n",
    "    factors = []\n",
    "    i = 2\n",
    "    while i * i <= n:\n",
    "        if n % i:\n",
    "            i += 1\n",
    "        else:\n",
    "            n //= i\n",
    "            factors.append(i)\n",
    "    if n > 1:\n",
    "        factors.append(n)\n",
    "    return factors\n",
    "\n"
   ]
  },
  {
   "cell_type": "code",
   "execution_count": 125,
   "id": "7244b15a-f921-4b78-9ee6-2e62ef7886c2",
   "metadata": {},
   "outputs": [
    {
     "data": {
      "text/plain": [
       "[2, 3, 3, 11]"
      ]
     },
     "execution_count": 125,
     "metadata": {},
     "output_type": "execute_result"
    }
   ],
   "source": [
    "prime_factors(198)"
   ]
  },
  {
   "cell_type": "markdown",
   "id": "d07d340d-8edd-4f6e-ad1a-cb66c551225d",
   "metadata": {},
   "source": [
    "25. Write a Python program to merge two sorted lists into a single sorted list.\n"
   ]
  },
  {
   "cell_type": "code",
   "execution_count": 138,
   "id": "b7d9fade-1a13-4436-8cbf-a6735eb66032",
   "metadata": {},
   "outputs": [],
   "source": [
    "\n",
    "def merge_sorted_lists(list1, list2):\n",
    "    list3 = list1 + list2  \n",
    "    sorted_list = sorted(list3) \n",
    "    return sorted_list"
   ]
  },
  {
   "cell_type": "code",
   "execution_count": 139,
   "id": "f2f46185-a75d-48b5-b53c-ee6f56eabf3d",
   "metadata": {},
   "outputs": [
    {
     "data": {
      "text/plain": [
       "[1, 1, 2, 2, 2, 2, 3, 3, 4, 4, 4, 5, 5, 5, 6, 6, 6, 7, 7, 8, 9, 9, 56, 59]"
      ]
     },
     "execution_count": 139,
     "metadata": {},
     "output_type": "execute_result"
    }
   ],
   "source": [
    "merge_sorted_lists([1,2,3,5,6,9,8,7,4,2,6,59,4],[5,2,3,6,5,9,7,1,2,56,4])"
   ]
  },
  {
   "cell_type": "markdown",
   "id": "c1dfe7b9-d0dd-4dc2-9ae0-597016f50e32",
   "metadata": {},
   "source": [
    "26. Implement a function to find the mode of a list of numbers.\n"
   ]
  },
  {
   "cell_type": "code",
   "execution_count": 168,
   "id": "bc3c5400-4be1-4114-87be-f49c060a8c4b",
   "metadata": {},
   "outputs": [],
   "source": [
    "from collections import Counter\n",
    "\n",
    "def find_mode(numbers):\n",
    "    # Count the occurrences of each number in the list\n",
    "    count = Counter(numbers)\n",
    "    \n",
    "    # Find the number(s) with the maximum count\n",
    "    max_count = max(count.values())\n",
    "    mode = [num for num, freq in count.items() if freq == max_count]\n",
    "    \n",
    "    return mode\n",
    "    "
   ]
  },
  {
   "cell_type": "code",
   "execution_count": 169,
   "id": "8ec66dfa-7208-41d2-91e3-05f426072efa",
   "metadata": {},
   "outputs": [
    {
     "data": {
      "text/plain": [
       "[3]"
      ]
     },
     "execution_count": 169,
     "metadata": {},
     "output_type": "execute_result"
    }
   ],
   "source": [
    "find_mode([10,2,2,2,2,6,3,3,5,4,8,6,2,2,3,3,6,6,3,3,5,5,3,3,4,4,5,5,3,3,3,6,6,6,2,2,3,3,6,6])"
   ]
  },
  {
   "cell_type": "markdown",
   "id": "c4f96c3a-d128-48d8-9901-3ef14f215355",
   "metadata": {},
   "source": [
    "27. Write a program to find the greatest common divisor (GCD) of two numbers.\n"
   ]
  },
  {
   "cell_type": "code",
   "execution_count": 179,
   "id": "c00ea256-42ce-4432-bbe0-b165d651b9da",
   "metadata": {},
   "outputs": [],
   "source": [
    "from functools import reduce\n",
    "import math\n",
    "\n",
    "def gcd(n, n1):\n",
    "    factors = []\n",
    "    factors1 = []\n",
    "    common = []\n",
    "    i = 2\n",
    "    while i * i <= n:\n",
    "        if n % i:\n",
    "            i += 1\n",
    "        else:\n",
    "            n //= i\n",
    "            factors.append(i)\n",
    "    if n > 1:\n",
    "        factors.append(n)\n",
    "        \n",
    "    i = 2  # Reset i to 2 for the second loop\n",
    "    \n",
    "    while i * i <= n1:\n",
    "        if n1 % i:\n",
    "            i += 1\n",
    "        else:\n",
    "            n1 //= i\n",
    "            factors1.append(i)\n",
    "    if n1 > 1:\n",
    "        factors1.append(n1)\n",
    "        \n",
    "    for i in factors:\n",
    "        if i in factors1:\n",
    "            common.append(i)\n",
    "    \n",
    "    gcd = reduce(lambda x, y: x * y, common) if common else 1\n",
    "    return gcd\n",
    "        "
   ]
  },
  {
   "cell_type": "code",
   "execution_count": 181,
   "id": "e736d628-5d4b-493f-803a-b671b13e22ab",
   "metadata": {},
   "outputs": [
    {
     "data": {
      "text/plain": [
       "100"
      ]
     },
     "execution_count": 181,
     "metadata": {},
     "output_type": "execute_result"
    }
   ],
   "source": [
    "gcd(100,150)"
   ]
  },
  {
   "cell_type": "raw",
   "id": "1e0f131c-a748-4c4f-84b9-30522ac312c4",
   "metadata": {},
   "source": [
    "28. Implement a function to calculate the square root of a given number.\n"
   ]
  },
  {
   "cell_type": "code",
   "execution_count": null,
   "id": "9515aebe-ea12-448b-a3d7-7be45abcbda6",
   "metadata": {},
   "outputs": [],
   "source": [
    "def square_root(n):\n",
    "    if n < 0:\n",
    "        raise ValueError(\"Cannot calculate square root of a negative number.\")\n",
    "\n",
    "    \n",
    "    guess = n / 2\n",
    "\n",
    "    # Iterate until the desired precision is achieved\n",
    "    while True:\n",
    "        # Calculate the new guess\n",
    "        new_guess = (guess + n / guess) / 2\n",
    "\n",
    "        # Check if the guess has converged to the desired precision\n",
    "        if abs(guess - new_guess) < 1e-9:\n",
    "            return new_guess\n",
    "\n",
    "        # Update the guess for the next iteration\n",
    "        guess = new_guess\n"
   ]
  },
  {
   "cell_type": "markdown",
   "id": "d311978d-c308-4ef3-827b-77f3f6d2be19",
   "metadata": {},
   "source": [
    "29. Write a Python program to check if a given string is a valid palindrome ignoring non-alphanumeric characters"
   ]
  },
  {
   "cell_type": "code",
   "execution_count": 7,
   "id": "23007878-3a92-43ce-8f88-8fa79bd1a642",
   "metadata": {},
   "outputs": [
    {
     "name": "stdout",
     "output_type": "stream",
     "text": [
      "False\n"
     ]
    }
   ],
   "source": [
    "def is_valid_palindrome(s):\n",
    "    # Remove non-alphanumeric characters and convert to lowercase\n",
    "    alphanumeric_string = ''.join(c.lower() for c in s if c.isalnum())\n",
    "    \n",
    "    # Check if the string is equal to its reverse\n",
    "    return alphanumeric_string == alphanumeric_string[::-1]\n",
    "    print(alphanumeric_string)\n",
    "\n"
   ]
  },
  {
   "cell_type": "code",
   "execution_count": 10,
   "id": "0b17e829-0489-4cf1-ad2b-5c15611a7eba",
   "metadata": {},
   "outputs": [
    {
     "data": {
      "text/plain": [
       "True"
      ]
     },
     "execution_count": 10,
     "metadata": {},
     "output_type": "execute_result"
    }
   ],
   "source": [
    "is_valid_palindrome('nitin,&&')"
   ]
  },
  {
   "cell_type": "markdown",
   "id": "327e30aa-54b7-4def-8ec3-db038b6cf5f3",
   "metadata": {},
   "source": [
    "31. Write a program to find the sum of all even numbers in a list.\n"
   ]
  },
  {
   "cell_type": "code",
   "execution_count": 22,
   "id": "9fa4b173-c58f-4453-87b6-fb3217a89cf3",
   "metadata": {},
   "outputs": [],
   "source": [
    "def even_sum(x):\n",
    "    total = 0\n",
    "    for i in x:\n",
    "        if i % 2 == 0:\n",
    "            total += i\n",
    "    return total\n",
    "\n",
    "            "
   ]
  },
  {
   "cell_type": "code",
   "execution_count": 23,
   "id": "ac2ddd09-c5d7-46ef-83f2-bcc27bbb8ac9",
   "metadata": {},
   "outputs": [
    {
     "data": {
      "text/plain": [
       "26"
      ]
     },
     "execution_count": 23,
     "metadata": {},
     "output_type": "execute_result"
    }
   ],
   "source": [
    "even_sum([2,6,3,4,8,1,3,13,6])"
   ]
  },
  {
   "cell_type": "code",
   "execution_count": null,
   "id": "60cd994d-a62e-4af9-96f9-80fea29fab66",
   "metadata": {},
   "outputs": [],
   "source": []
  },
  {
   "cell_type": "code",
   "execution_count": null,
   "id": "6a21c635-2a08-4c77-bb6d-9a13b1960c46",
   "metadata": {},
   "outputs": [],
   "source": []
  },
  {
   "cell_type": "code",
   "execution_count": null,
   "id": "aade78bb-3b66-48b6-8509-112625039e01",
   "metadata": {},
   "outputs": [],
   "source": []
  },
  {
   "cell_type": "code",
   "execution_count": null,
   "id": "9c00550d-e07a-46a7-b111-cfe7972708bc",
   "metadata": {},
   "outputs": [],
   "source": []
  },
  {
   "cell_type": "code",
   "execution_count": null,
   "id": "5f6d3d82-8a7e-4dd7-a37d-1310b4f45ad1",
   "metadata": {},
   "outputs": [],
   "source": []
  },
  {
   "cell_type": "code",
   "execution_count": null,
   "id": "bb2dfaa2-b033-44bf-9c0c-f14c84d3baf1",
   "metadata": {},
   "outputs": [],
   "source": []
  },
  {
   "cell_type": "code",
   "execution_count": null,
   "id": "8d465cdc-1639-4c2e-89ee-e9e65bb70da9",
   "metadata": {},
   "outputs": [],
   "source": []
  },
  {
   "cell_type": "code",
   "execution_count": null,
   "id": "442815e4-02dc-4b6b-b875-75ab74bef57c",
   "metadata": {},
   "outputs": [],
   "source": []
  },
  {
   "cell_type": "code",
   "execution_count": null,
   "id": "1b15b447-78a3-447f-a3e1-3feb5c55723d",
   "metadata": {},
   "outputs": [],
   "source": []
  },
  {
   "cell_type": "code",
   "execution_count": null,
   "id": "6368bb2e-098a-4a6f-9858-0e3199a1b297",
   "metadata": {},
   "outputs": [],
   "source": []
  }
 ],
 "metadata": {
  "kernelspec": {
   "display_name": "Python 3 (ipykernel)",
   "language": "python",
   "name": "python3"
  },
  "language_info": {
   "codemirror_mode": {
    "name": "ipython",
    "version": 3
   },
   "file_extension": ".py",
   "mimetype": "text/x-python",
   "name": "python",
   "nbconvert_exporter": "python",
   "pygments_lexer": "ipython3",
   "version": "3.9.13"
  }
 },
 "nbformat": 4,
 "nbformat_minor": 5
}
